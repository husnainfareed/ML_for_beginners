{
 "cells": [
  {
   "cell_type": "code",
   "execution_count": 3,
   "metadata": {},
   "outputs": [
    {
     "name": "stdout",
     "output_type": "stream",
     "text": [
      "1\n",
      "8\n",
      "1.4142135623730951\n",
      "1.4142\n",
      "512\n"
     ]
    }
   ],
   "source": [
    "# Lecture#15 - Variables in Python \n",
    "\n",
    "print(9//5)     #will generate integer value\n",
    "print (2**3)    #will generate 2 power 3\n",
    "print(2**0.5)   #will generate answer till about 10 value after decimal value\n",
    "print(round(2**0.5, 4)) #will generate answer till four round off \n",
    "print(2**3**2)  #will generate first 3^2 = 9, then 2^9 = 512\n"
    "print(2**3**3)  #will generate first 3^3 = 27, then 2^27 = 134,217,728\n"
    
    
   ]
  },
  {
   "cell_type": "code",
   "execution_count": 3,
   "metadata": {},
   "outputs": [
    {
     "name": "stdout",
     "output_type": "stream",
     "text": [
      "awinash\n"
     ]
    }
   ],
   "source": [
    "# Lecture#15 - Variables in Python \n",
    "# we can store number and string in variable in python\n",
    "_name = \"awinash\"; \n",
    "print(_name)\n",
    "# example of snake_case_writing\n",
    "# example of camelCase\n"
   ]
  },
  {
   "cell_type": "code",
   "execution_count": 4,
   "metadata": {},
   "outputs": [
    {
     "name": "stdout",
     "output_type": "stream",
     "text": [
      "awi goswami\n",
      "awi goswami3\n",
      "awi goswami3\n",
      "awi goswamiawi goswamiawi goswamiawi goswami\n"
     ]
    }
   ],
   "source": [
    "# Lecture#16 - String Concatation \n",
    "\n",
    "firstName = \"awi\"\n",
    "lastName = \"goswami\"\n",
    "fullName = firstName + \" \" + lastName\n",
    "print(fullName)\n",
    "\n",
    "# string can be concatenated with string not with number\n",
    "# print(fullName + 3)   #error    \n",
    "\n",
    "print(fullName + \"3\") #no error\n",
    "print(fullName + str(3)) #no error\n",
    "print(fullName * 4) #string multiplication \n"
   ]
  },
  {
   "cell_type": "code",
   "execution_count": 5,
   "metadata": {},
   "outputs": [
    {
     "name": "stdout",
     "output_type": "stream",
     "text": [
      "type your name: awi\n",
      "hello awi\n",
      "what is your age? 26\n",
      "26\n"
     ]
    }
   ],
   "source": [
    "# Lecture#17 - User Input\n",
    "# input function \n",
    "\n",
    "name = input(\"type your name: \")\n",
    "print(\"hello \" + name)\n",
    "\n",
    "# input function will always accept string\n",
    "\n",
    "age = input(\"what is your age? \")\n",
    "print(age)\n"
   ]
  },
  {
   "cell_type": "code",
   "execution_count": 6,
   "metadata": {},
   "outputs": [
    {
     "name": "stdout",
     "output_type": "stream",
     "text": [
      "enter first number: 12\n",
      "enter second number: 32\n",
      "44.0\n",
      "79.0\n"
     ]
    }
   ],
   "source": [
    "\n",
    "# Lecture#18 - Int() and float function\n",
    "\n",
    "number1 = float(input(\"enter first number: \"))\n",
    "number2 = float(input(\"enter second number: \")) \n",
    "sum = number1 + number2\n",
    "print(str(sum))\n",
    "\n",
    "# individually\n",
    "\n",
    "val1 = str(4)\n",
    "val2 = float(\"54\")\n",
    "val3 = int(\"25\")\n",
    "print(val2 + val3)      #output will be in float\n"
   ]
  },
  {
   "cell_type": "code",
   "execution_count": 7,
   "metadata": {},
   "outputs": [
    {
     "name": "stdout",
     "output_type": "stream",
     "text": [
      "awi 25\n"
     ]
    }
   ],
   "source": [
    "# Lecture#19 - More about variables\n",
    "# multiple variable in single line\n",
    "\n",
    "name, age = \"awi \", 25\n",
    "print(name + str(age))\n",
    "\n",
    "x=y=z = 1\n"
   ]
  },
  {
   "cell_type": "code",
   "execution_count": 9,
   "metadata": {},
   "outputs": [
    {
     "name": "stdout",
     "output_type": "stream",
     "text": [
      "enter your name and ageawi 26\n",
      "awi\n",
      "26\n",
      "enter your name and age with comma between inawi, 26\n",
      "awi\n",
      " 26\n"
     ]
    }
   ],
   "source": [
    "# Lecture#20 - Two or more input in one line\n",
    "\n",
    "name, age = input(\"enter your name and age\").split()\n",
    "print(name)\n",
    "print(age)\n",
    "\n",
    "name, age = input(\"enter your name and age with comma between in\").split(\",\")\n",
    "print(name)\n",
    "print(age)\n"
   ]
  },
  {
   "cell_type": "code",
   "execution_count": 10,
   "metadata": {},
   "outputs": [
    {
     "name": "stdout",
     "output_type": "stream",
     "text": [
      "a\n"
     ]
    }
   ],
   "source": [
    "# Lecture#20 - String Indexing\n",
    "\n",
    "name = \"awinash\"\n",
    "print(name[0])\n",
    "\n",
    "# will print a\n",
    "# print(name[6]) == print(name[-1])\n"
   ]
  },
  {
   "cell_type": "code",
   "execution_count": 13,
   "metadata": {},
   "outputs": [
    {
     "name": "stdout",
     "output_type": "stream",
     "text": [
      "ytho\n",
      "python\n",
      "thon\n",
      "python\n"
     ]
    }
   ],
   "source": [
    "# Lecture#21 - String Slicing \n",
    "\n",
    "lang = \"python\"\n",
    "\n",
    "#syntax - [start argument: stop argument]\n",
    "\n",
    "print(lang[1:5])    # will print ytho\n",
    "print(lang[:6])     # will print python\n",
    "print(lang[2:])      # will print thon\n",
    "print(lang[:])       # will print python\n"
   ]
  },
  {
   "cell_type": "code",
   "execution_count": 14,
   "metadata": {},
   "outputs": [
    {
     "name": "stdout",
     "output_type": "stream",
     "text": [
      "iahgs\n",
      "imawsog_hsaniwa\n"
     ]
    }
   ],
   "source": [
    "# Lecture\t#22 - Step Argument\n",
    "#syntax - [start argument : stop argument : step]\n",
    "\n",
    "print(\"awinash_goswami\"[2:11:2])    # will print iahgs\n",
    "print(\"awinash_goswami\"[::-1])      # will print imawsog_hsaniwa, reverse string\n"
   ]
  },
  {
   "cell_type": "code",
   "execution_count": 15,
   "metadata": {},
   "outputs": [
    {
     "name": "stdout",
     "output_type": "stream",
     "text": [
      "15\n",
      "AWINASH_GOSWAMI\n",
      "awinash_goswami\n",
      "3\n"
     ]
    }
   ],
   "source": [
    "# Lecture#23 - String Method Part I\n",
    "\n",
    "lower = \"awinash_goswami\"\n",
    "upper = \"AWINASH_GOSWAMI\"\n",
    "\n",
    "print(len(lower))       # will count length of lower variable including spaces\n",
    "print(lower.upper())    # will make all characters in uppercase\n",
    "print(upper.lower())    # will make all characters in lowercase\n",
    "print(lower.count(\"a\")) # will count number of occurrence of specific character\n"
   ]
  },
  {
   "cell_type": "code",
   "execution_count": 16,
   "metadata": {},
   "outputs": [
    {
     "name": "stdout",
     "output_type": "stream",
     "text": [
      "    Awinash       \n",
      "Awinash       \n",
      "    Awinash\n",
      "Awinash\n",
      "Awinash\n"
     ]
    }
   ],
   "source": [
    "# Lecture#24 - Strip Method\n",
    "\n",
    "name = \"    Awinash       \"\n",
    "name1 = \"   Awi       nash\"\n",
    "\n",
    "print(name)                     # will print as usual with space\n",
    "print(name.lstrip())            # will remove spaces from left side\n",
    "print(name.rstrip())            # will remove spaces from right side\n",
    "print(name.strip())             # will remove spaces from both sides\n",
    "print(name1.replace(\" \", \"\"))   # will replace spaces with no spaces\n"
   ]
  },
  {
   "cell_type": "code",
   "execution_count": 17,
   "metadata": {},
   "outputs": [
    {
     "name": "stdout",
     "output_type": "stream",
     "text": [
      "My nime is Awinish\n",
      "my nime is iwinash\n"
     ]
    }
   ],
   "source": [
    "# Lecture#25 - replace() and find() method\n",
    "\n",
    "string = \"My name is Awinash\"\n",
    "print(string.replace(\"a\",\"i\"))             # will replace a with i\n",
    "print(string.lower().replace(\"a\", \"i\", 2))  # will replace a with i after index 2\n"
   ]
  },
  {
   "cell_type": "code",
   "execution_count": 18,
   "metadata": {},
   "outputs": [
    {
     "name": "stdout",
     "output_type": "stream",
     "text": [
      "****Awinash****\n"
     ]
    }
   ],
   "source": [
    "# Lecture#26 - Center method with program\n",
    "\n",
    "name = \"Awinash\"                \n",
    "print(name.center(15, \"*\"))     #len().name is 7, 15-7 = 8. It will print eight characters, four at left and four at right \n"
   ]
  },
  {
   "cell_type": "code",
   "execution_count": 19,
   "metadata": {},
   "outputs": [
    {
     "name": "stdout",
     "output_type": "stream",
     "text": [
      "awinash\n",
      "awInash\n"
     ]
    }
   ],
   "source": [
    "# Lecture#27 - Strings are immutable \n",
    "\n",
    "string = \"awinash\"\n",
    "string.replace('i', 'I')\n",
    "new_string = string.replace('i', 'I')\n",
    "\n",
    "print(string)       # will print awinash rather awInash because string are immutable\n",
    "print(new_string)   # will print awInash now because now new string has been created\n"
   ]
  },
  {
   "cell_type": "code",
   "execution_count": 20,
   "metadata": {},
   "outputs": [
    {
     "name": "stdout",
     "output_type": "stream",
     "text": [
      "awinash_goswami\n"
     ]
    }
   ],
   "source": [
    "# Lecture#28 -More Assignment Operators \n",
    "\n",
    "name = \"awinash\"\n",
    "name = name + \"_goswami\"\n",
    "print(name)         #will print awinash_goswami\n"
   ]
  },
  {
   "cell_type": "code",
   "execution_count": 21,
   "metadata": {},
   "outputs": [
    {
     "name": "stdout",
     "output_type": "stream",
     "text": [
      "Enter your age: 26\n",
      "you are above 14\n"
     ]
    }
   ],
   "source": [
    "# Lecture#29 -If Statement \n",
    "\n",
    "age = int(input(\"Enter your age: \"))\n",
    "if age >= 14:\n",
    "    print(\"you are above 14\")\n"
   ]
  },
  {
   "cell_type": "code",
   "execution_count": 22,
   "metadata": {
    "collapsed": true
   },
   "outputs": [],
   "source": [
    "# Lecture#30 - Pass Statement\n",
    "\n",
    "x = 18\n",
    "if x>18:\n",
    "    pass\n",
    "    \n",
    "#pass is keyword in python, if you don't want to write anything then write pass\n",
    "# otherwise if you leave it blank, an error will occur"
   ]
  },
  {
   "cell_type": "code",
   "execution_count": 23,
   "metadata": {},
   "outputs": [
    {
     "name": "stdout",
     "output_type": "stream",
     "text": [
      "Enter your age: 26\n",
      "you are above 14\n"
     ]
    }
   ],
   "source": [
    "# Lecture#31 - else Statement\n",
    "\n",
    "age = int(input(\"Enter your age: \"))\n",
    "if age > 14:\n",
    "    print(\"you are above 14\")\n",
    "else:\n",
    "    print(\"you are below 14\")\n"
   ]
  },
  {
   "cell_type": "code",
   "execution_count": 25,
   "metadata": {},
   "outputs": [
    {
     "name": "stdout",
     "output_type": "stream",
     "text": [
      "Enter any number: 10\n",
      "You won\n"
     ]
    }
   ],
   "source": [
    "# Lecture#32 - nested if else \n",
    "\n",
    "winning_number = int(input(\"Enter any number: \"))\n",
    "if 10==winning_number:\n",
    "    print(\"You won\")\n",
    "else:\n",
    "    if 10<winning_number:\n",
    "            print(\"too high\")\n",
    "    if 10>winning_number:\n",
    "            print(\"too low\")\n"
   ]
  },
  {
   "cell_type": "code",
   "execution_count": 28,
   "metadata": {},
   "outputs": [
    {
     "name": "stdout",
     "output_type": "stream",
     "text": [
      "approved\n",
      "able\n"
     ]
    }
   ],
   "source": [
    "# Lecture#33 - and, or operator \n",
    "#checking two conditions at same time\n",
    "# and, or\n",
    "\n",
    "# both variable should match for true condition \n",
    "\n",
    "name1 = 'able'\n",
    "age1 = 19\n",
    "\n",
    "if name1=='able' and age1==19:\n",
    "    print(\"approved\")\n",
    "else:\n",
    "    print(\"disapproved\")\n",
    "    \n",
    "# either anyone or both variable should match for true condition\n",
    "\n",
    "name2 = \"disable\" \n",
    "age2 = 69\n",
    "if name2==\"disable\" or age2==99:\n",
    "    print(\"able\")\n",
    "else:\n",
    "    print(\"disable\")\n",
    "    "
   ]
  },
  {
   "cell_type": "code",
   "execution_count": 29,
   "metadata": {},
   "outputs": [
    {
     "name": "stdout",
     "output_type": "stream",
     "text": [
      "Enter your age: 55\n",
      "Ticket Price: 300\n"
     ]
    }
   ],
   "source": [
    "# Lecture#34 - if...elif...else statement\n",
    "\n",
    "age = int(input(\"Enter your age: \"))\n",
    "\n",
    "if age==0 or age<0:\n",
    "    print(\"Invalid input\")\n",
    "elif 1<=age<=3:\n",
    "    print(\"Free\")\n",
    "elif 3<age<=10:\n",
    "    print(\"Ticket Price: 150\")\n",
    "elif 10<age<=20:\n",
    "    print(\"Ticket Price: 250\")\n",
    "else:\n",
    "    print(\"Ticket Price: 300\")\n"
   ]
  },
  {
   "cell_type": "code",
   "execution_count": 30,
   "metadata": {},
   "outputs": [
    {
     "name": "stdout",
     "output_type": "stream",
     "text": [
      "yes\n"
     ]
    }
   ],
   "source": [
    "# Lecture#35 - in keyword\n",
    "# to find presence of a specific letter in a word\n",
    "\n",
    "name = \"awinash\"\n",
    "if 'a' in name:\n",
    "    print(\"yes\")\n",
    "else:\n",
    "    print(\"no\")\n"
   ]
  },
  {
   "cell_type": "code",
   "execution_count": 31,
   "metadata": {},
   "outputs": [
    {
     "name": "stdout",
     "output_type": "stream",
     "text": [
      "Enter your name: awi\n",
      "your name is awi\n"
     ]
    }
   ],
   "source": [
    "# Lecture#36 - check empty or not\n",
    "#check empty or not\n",
    "\n",
    "name = input(\"Enter your name: \")       \n",
    "if name:                             \n",
    "#true if string is not empty\n",
    "    print(f\"your name is {name}\")\n",
    "else:\n",
    "    print(\"you did not type anything\")\n"
   ]
  },
  {
   "cell_type": "code",
   "execution_count": 34,
   "metadata": {},
   "outputs": [
    {
     "name": "stdout",
     "output_type": "stream",
     "text": [
      " 0 - awi jani\n",
      " 1 - awi jani\n",
      " 2 - awi jani\n",
      " 3 - awi jani\n",
      " 4 - awi jani\n",
      " 5 - awi jani\n",
      " 6 - awi jani\n",
      " 7 - awi jani\n",
      " 8 - awi jani\n",
      " 9 - awi jani\n"
     ]
    }
   ],
   "source": [
    "# Lecture#36 - while loop\n",
    "#while loop\n",
    "\n",
    "i = 0\n",
    "while i<10:\n",
    "    print(f\" {i} - awi jani\")\n",
    "    i += 1\n"
   ]
  },
  {
   "cell_type": "code",
   "execution_count": 38,
   "metadata": {},
   "outputs": [
    {
     "name": "stdout",
     "output_type": "stream",
     "text": [
      "1 - hello\n",
      "2 - hello\n",
      "3 - hello\n",
      "4 - hello\n",
      "5 - hello\n",
      "6 - hello\n",
      "7 - hello\n",
      "8 - hello\n",
      "9 - hello\n"
     ]
    }
   ],
   "source": [
    "# Lecture#37 - for loop\n",
    "\n",
    "for j in range(9):\n",
    "    print(f\"{j+1} - hello\")  # i's by default value is 0\n"
   ]
  },
  {
   "cell_type": "code",
   "execution_count": 39,
   "metadata": {},
   "outputs": [
    {
     "name": "stdout",
     "output_type": "stream",
     "text": [
      "0\n",
      "1\n",
      "2\n",
      "3\n",
      "4\n",
      "5\n",
      "-------------\n",
      "0\n",
      "1\n",
      "2\n",
      "3\n",
      "4\n",
      "6\n",
      "7\n",
      "8\n",
      "9\n",
      "10\n"
     ]
    }
   ],
   "source": [
    "# Lecture#38 - break and continue keyword\n",
    "#break and continue keyword\n",
    "\n",
    "for i in range(11):\n",
    "    print(i)\n",
    "    if (i==5):\n",
    "        break\n",
    "\n",
    "#loop will stop and program terminate\n",
    "    \n",
    "print(\"-------------\")\n",
    "\n",
    "for i in range(11):\n",
    "    if (i==5):\n",
    "        continue\n",
    "    print(i)\n",
    "\n",
    "#loop will not print 5 and program continues\n"
   ]
  },
  {
   "cell_type": "code",
   "execution_count": 41,
   "metadata": {},
   "outputs": [
    {
     "name": "stdout",
     "output_type": "stream",
     "text": [
      "Winning number: 87\n",
      "Enter your guess between 1 and 100: 98\n",
      "too high\n",
      "Enter your guess between 1 and 100: 11\n",
      "too low\n",
      "Enter your guess between 1 and 100: 87\n",
      "you win, you guessed 3 times\n"
     ]
    }
   ],
   "source": [
    "# Number Guessing Game\n",
    "\n",
    "import random \n",
    "\n",
    "random_number = random.randint(1,100)\n",
    "print(f'Winning number: {random_number}')\n",
    "\n",
    "frequency = 1\n",
    "game_over = False\n",
    "\n",
    "user_guess = int(input(\"Enter your guess between 1 and 100: \"))\n",
    "\n",
    "while not game_over:\n",
    "    if user_guess==random_number:\n",
    "        print(f\"you win, you guessed {frequency} times\")\n",
    "        game_over = True\n",
    "    else:\n",
    "        if user_guess < random_number:\n",
    "            print(\"too low\")\n",
    "        else:\n",
    "            print(\"too high\")\n",
    "        frequency += 1 \n",
    "        user_guess = int(input(\"Enter your guess between 1 and 100: \"))\n"
   ]
  },
  {
   "cell_type": "code",
   "execution_count": 42,
   "metadata": {},
   "outputs": [
    {
     "name": "stdout",
     "output_type": "stream",
     "text": [
      "0\n",
      "2\n",
      "4\n",
      "6\n",
      "8\n",
      "10\n",
      "-----------\n",
      "10\n",
      "8\n",
      "6\n",
      "4\n",
      "2\n",
      "0\n"
     ]
    }
   ],
   "source": [
    "# Lecture#39 - Step Argument in Range function \n",
    "\n",
    "for i in range(0,11,2):\n",
    "    print(i)            \n",
    "    \n",
    "print(\"-----------\")\n",
    "\n",
    "for i in range(10,-1,-2):\n",
    "    print(i)            \n"
   ]
  },
  {
   "cell_type": "code",
   "execution_count": 47,
   "metadata": {},
   "outputs": [
    {
     "name": "stdout",
     "output_type": "stream",
     "text": [
      "----------way 1------------\n",
      "enter a number: 45\n",
      "The sum of your digits of your enterend number is: 9\n",
      "\n",
      "----------way 2------------\n",
      "a\n",
      "w\n",
      "i\n",
      "n\n",
      "a\n",
      "s\n",
      "h\n"
     ]
    }
   ],
   "source": [
    "# Lecture#40 - for loop in string\n",
    "\n",
    "print(\"----------way 1------------\")\n",
    "number = input(\"enter a number: \")\n",
    "total = 0\n",
    "for i in number:\n",
    "    total += int(i)\n",
    "print(f'The sum of your digits of your enterend number is: {total}\\n')\n",
    "\n",
    "print(\"----------way 2------------\")\n",
    "name = \"awinash\"\n",
    "for i in name:\n",
    "    print(i)\n",
    "\n"
   ]
  },
  {
   "cell_type": "code",
   "execution_count": 49,
   "metadata": {},
   "outputs": [
    {
     "name": "stdout",
     "output_type": "stream",
     "text": [
      "first: 565\n",
      "second: 85\n",
      "650\n"
     ]
    }
   ],
   "source": [
    "# Lecture#41 - function intro\n",
    "\n",
    "a = int(input(\"first: \"))\n",
    "b = int(input(\"second: \"))\n",
    "\n",
    "def add_two_numbers(x,y):\n",
    "    return x+y\n",
    "\n",
    "print(add_two_numbers(a,b))\n"
   ]
  },
  {
   "cell_type": "code",
   "execution_count": 51,
   "metadata": {},
   "outputs": [
    {
     "name": "stdout",
     "output_type": "stream",
     "text": [
      "Enter: madam\n",
      "True\n"
     ]
    }
   ],
   "source": [
    "# Palindrome Example\n",
    "\n",
    "def is_palindrome(word):\n",
    "    return word == word[::-1]\n",
    "\n",
    "name = input(\"Enter: \") \n",
    "print(is_palindrome(name))\n"
   ]
  },
  {
   "cell_type": "code",
   "execution_count": 57,
   "metadata": {},
   "outputs": [
    {
     "name": "stdout",
     "output_type": "stream",
     "text": [
      "0 1, 1, 2, 3, 5, 8, 13, 21, 34, "
     ]
    }
   ],
   "source": [
    "# Fibonacci Example\n",
    "\n",
    "def fibonacci(digit):\n",
    "    a = 0\n",
    "    b = 1\n",
    "    if digit == 1:\n",
    "        print(a)\n",
    "    elif digit == 2:\n",
    "        print(a, b)\n",
    "    else:\n",
    "        print(a,b, end = \", \")\n",
    "        for i in range(digit-2):\n",
    "            c = a+b\n",
    "            a = b\n",
    "            b = c\n",
    "            print(b, end = \", \")\n",
    "\n",
    "fibonacci(10)\n"
   ]
  },
  {
   "cell_type": "code",
   "execution_count": 58,
   "metadata": {},
   "outputs": [
    {
     "name": "stdout",
     "output_type": "stream",
     "text": [
      "5\n",
      "7\n",
      "7\n"
     ]
    }
   ],
   "source": [
    "# Lecture#42 - variable scope\n",
    "# scope \n",
    "\n",
    "x = 5 # global variable\n",
    "\n",
    "def func():\n",
    "    global x\n",
    "    x = 7 # local variables\n",
    "    return x\n",
    " \n",
    "print(x)\n",
    "print(func())\n",
    "print(x)\n"
   ]
  },
  {
   "cell_type": "code",
   "execution_count": 59,
   "metadata": {},
   "outputs": [
    {
     "name": "stdout",
     "output_type": "stream",
     "text": [
      "['awinash', 'goswami', 4, 5, 6, 7, 4.3, None]\n"
     ]
    }
   ],
   "source": [
    "# Lecture#43 - Intro to List\n",
    "#list is used for storing more than one variable in single storage\n",
    "#variable can be both mixed and of same type\n",
    "\n",
    "numbers = [\"awinash\", \"goswami\", 4,5,6,7, 4.3, None]\n",
    "print(numbers)\n"
   ]
  },
  {
   "cell_type": "code",
   "execution_count": 60,
   "metadata": {},
   "outputs": [
    {
     "name": "stdout",
     "output_type": "stream",
     "text": [
      "['apple', 'grapes']\n",
      "['apple', 'grapes', 'mango']\n"
     ]
    }
   ],
   "source": [
    "# Lecture#44 - Adding data into list\n",
    "\n",
    "fruits = [\"apple\", \"grapes\"]\n",
    "print(fruits)\n",
    "\n",
    "fruits.append(\"mango\")     #will add mango in end of list\n",
    "print(fruits)       \n"
   ]
  },
  {
   "cell_type": "code",
   "execution_count": 61,
   "metadata": {},
   "outputs": [
    {
     "name": "stdout",
     "output_type": "stream",
     "text": [
      "['mango', 'grapes', 'orange']\n",
      "['mango', 'grapes', 'orange', 'papaya', 'watermelon']\n",
      "['mango', 'grapes', 'orange', 'papaya', 'watermelon']\n",
      "['mango', 'grapes', 'orange', 'papaya', 'watermelon', ['papaya', 'watermelon']]\n"
     ]
    }
   ],
   "source": [
    "# Lecture#45 - More methods to add data\n",
    "#insert method is used to add data at any position\n",
    "\n",
    "fruits1 = [\"mango\", \"orange\"]\n",
    "fruits1.insert(1, \"grapes\")   \n",
    "print(fruits1) \n",
    "\n",
    "# + is used to concatenate lists\n",
    "fruits2 = [\"papaya\", \"watermelon\"]\n",
    "fruits = fruits1 + fruits2\n",
    "print(fruits)\n",
    "\n",
    "# extend method is used to add all elements of one list in another list\n",
    "fruits1.extend(fruits2)\n",
    "print(fruits1)\n",
    "\n",
    "# append method is also used to append list in list\n",
    "fruits1.append(fruits2)\n",
    "print(fruits1)\n"
   ]
  },
  {
   "cell_type": "code",
   "execution_count": 63,
   "metadata": {},
   "outputs": [
    {
     "name": "stdout",
     "output_type": "stream",
     "text": [
      "['orange', 'apple', 'mango', 'banana']\n",
      "['orange', 'apple', 'banana']\n",
      "['orange', 'banana']\n",
      "['orange']\n"
     ]
    }
   ],
   "source": [
    "# Lecture#46 - Delete data from list\n",
    "fruits = ['orange', 'apple', 'mango', 'banana', 'chikoo']\n",
    "\n",
    "#pop method is used to remove last element from list\n",
    "fruits.pop()\n",
    "print(fruits)\n",
    "\n",
    "#now pop method will remove 2 index element\n",
    "fruits.pop(2)\n",
    "print(fruits)\n",
    "\n",
    "#del method is also used to remove element\n",
    "del fruits[1]\n",
    "print(fruits)\n",
    "\n",
    "#remove method used to remove element by value\n",
    "fruits.remove(\"banana\")\n",
    "print(fruits)\n"
   ]
  },
  {
   "cell_type": "code",
   "execution_count": 64,
   "metadata": {},
   "outputs": [
    {
     "name": "stdout",
     "output_type": "stream",
     "text": [
      "available\n"
     ]
    }
   ],
   "source": [
    "# Lecture#47 - In keyword with list\n",
    "\n",
    "fruits = ['orange', 'apple', 'mango', 'banana', 'chikoo']\n",
    "if 'apple' in fruits:\n",
    "    print(\"available\")\n",
    "else:\n",
    "    print(\"not\")\n"
   ]
  },
  {
   "cell_type": "code",
   "execution_count": 65,
   "metadata": {},
   "outputs": [
    {
     "name": "stdout",
     "output_type": "stream",
     "text": [
      "2\n",
      "['apple', 'apple', 'banana', 'chikoo', 'guava', 'mango', 'orange']\n",
      "[1, 2, 3, 4, 4, 6, 8, 9]\n",
      "[]\n",
      "['apple', 'apple', 'banana', 'chikoo', 'guava', 'mango', 'orange']\n"
     ]
    }
   ],
   "source": [
    "# Lecture#48 - Some more list method\n",
    "#count method will count number of occurrence of particular element\n",
    "fruits = ['orange', 'apple', 'mango', 'banana', 'chikoo', 'guava', 'apple']\n",
    "print(fruits.count(\"apple\"))\n",
    "\n",
    "#sort method to sort elements in alphabetical order\n",
    "fruits.sort()\n",
    "print(fruits)\n",
    "\n",
    "#sorted method used for only printing after sort\n",
    "number = [4,6,2,1,8,9,4,3]\n",
    "print(sorted(number))\n",
    "\n",
    "#clear method will empty the list\n",
    "number.clear()\n",
    "print(number)\n",
    "\n",
    "#copy method used to copy all elements in list\n",
    "copy_fruits = fruits.copy()\n",
    "print(copy_fruits)\n"
   ]
  },
  {
   "cell_type": "code",
   "execution_count": 69,
   "metadata": {},
   "outputs": [
    {
     "name": "stdout",
     "output_type": "stream",
     "text": [
      "False\n",
      "True\n",
      "False\n"
     ]
    }
   ],
   "source": [
    "# Lecture#48 - is vs equal\n",
    "#list comparison\n",
    "#is, ==\n",
    "\n",
    "fruits1 = ['orange', 'apple', 'mango']\n",
    "fruits2 = ['banana', 'chikoo', 'guava', 'apple']\n",
    "fruits3 = ['orange', 'apple', 'mango']\n",
    "\n",
    "print(fruits1 == fruits2) #values are different hence False\n",
    "print(fruits1 == fruits3) #values are same hence True\n",
    "\n",
    "print(fruits1 is fruits2) \n",
    "\n",
    "# will print false because 'is' is used to check\n",
    "# whether two object are stored at same place in memory  \n"
   ]
  },
  {
   "cell_type": "code",
   "execution_count": 70,
   "metadata": {},
   "outputs": [
    {
     "name": "stdout",
     "output_type": "stream",
     "text": [
      "['awinash', '24']\n",
      "awinash,24\n"
     ]
    }
   ],
   "source": [
    "# Lecture#48 - split and join method \n",
    "#split method used to convert string to list\n",
    "\n",
    "user_info_split = \"awinash 24\".split()\n",
    "print(user_info_split)\n",
    "\n",
    "# join method used to convert list to string\n",
    "\n",
    "user_info_join = [\"awinash\", \"24\"]\n",
    "print(','.join(user_info_join))"
   ]
  },
  {
   "cell_type": "code",
   "execution_count": 71,
   "metadata": {},
   "outputs": [
    {
     "name": "stdout",
     "output_type": "stream",
     "text": [
      "1 2 3 4 5 6 7 8 9 \n",
      "\n",
      "6\n",
      "<class 'str'>\n"
     ]
    }
   ],
   "source": [
    "# Lecture#49 - List inside list\n",
    "# accessing all elements of list\n",
    "\n",
    "matrix =  [[1,2,3], [4,5,6], [7,8,9]]\n",
    "for sublist in matrix:\n",
    "    for i in sublist:\n",
    "        print(i, end = \" \")\n",
    "\n",
    "# accessing single element of list\n",
    "\n",
    "print(\"\\n\") \n",
    "print(matrix[1][2])\n",
    "\n",
    "#type function is used find out data’s type \n",
    "\n",
    "name = \"awi\"\n",
    "print(type(name))\n"
   ]
  },
  {
   "cell_type": "code",
   "execution_count": 72,
   "metadata": {},
   "outputs": [
    {
     "name": "stdout",
     "output_type": "stream",
     "text": [
      "[1, 2, 3, 4, 5, 6, 7, 8, 9, 10]\n",
      "10\n",
      "0\n",
      "[-1, -2, -3, -4, -5, -6, -7, -8, -9]\n"
     ]
    }
   ],
   "source": [
    "# Lecture#49 - More about list\n",
    "\n",
    "# generate lists with range function\n",
    "numbers = list(range(1,11))  # will generate a list from 1 to 10\n",
    "print(numbers)\n",
    "\n",
    "# pop method also returns pop value\n",
    "poped_value = numbers.pop()\n",
    "print(poped_value)\n",
    "\n",
    "# index method used to find position of element\n",
    "print(numbers.index(1))\n",
    "\n",
    "# passing list in function \n",
    "def negative_list(l):\n",
    "    temp_list = []\n",
    "    for i in l:\n",
    "        temp_list.append(-i)\n",
    "    return temp_list\n",
    "\n",
    "print(negative_list(numbers))\n"
   ]
  },
  {
   "cell_type": "code",
   "execution_count": 74,
   "metadata": {},
   "outputs": [
    {
     "data": {
      "text/plain": [
       "('Monday', 'Tuesday', 'Wednesday')"
      ]
     },
     "execution_count": 74,
     "metadata": {},
     "output_type": "execute_result"
    }
   ],
   "source": [
    "# Lecture#50 – Intro to Tuples \n",
    "\n",
    "# tuple data structure\n",
    "# tuple can store any data type\n",
    "# most important tuples are immutable, once tuple is created you can't update\n",
    "# data inside tuple\n",
    "# tuple are faster than list in performance\n",
    "# tuples are used when we know data is not be changed e.g. name of days\n",
    "\n",
    "example = (\"Monday\", \"Tuesday\", \"Wednesday\")\n",
    "example\n",
    "# methods for tuples \n",
    "# count, index, len, slicing \n"
   ]
  },
  {
   "cell_type": "code",
   "execution_count": 75,
   "metadata": {},
   "outputs": [
    {
     "name": "stdout",
     "output_type": "stream",
     "text": [
      "1 2 3 4.0 <class 'tuple'>\n",
      "vital signs\n",
      "('Pakistan', ['India', 'Germany'])\n",
      "Germany\n",
      "('Pakistan', ['India', 'France'])\n"
     ]
    }
   ],
   "source": [
    "# Lecture#51 – More about Tuples\n",
    "\n",
    "# looping in tuples\n",
    "# tuple with one element\n",
    "# tuple without parenthesis\n",
    "# tuple unpacking\n",
    "# list inside tuple\n",
    "# some functions we can use with tuples\n",
    "\n",
    "mixed = (1,2,3,4.0)\n",
    "\n",
    "# for loop\n",
    "for i in mixed:\n",
    "    print(i, end = \" \")\n",
    "\n",
    "# tuple with one element\n",
    "numIn = (1)      # is not tuple but integer\n",
    "numTu = (1,)     # is tuple, you must add ,\n",
    "\n",
    "# tuple without parenthesis\n",
    "fruits = \"banana\", \"chikoo\", \"orange\"\n",
    "print(type(fruits))\n",
    "\n",
    "# tuple unpacking\n",
    "bands = (\"vital signs\", \"string\", \"junoon\")\n",
    "band1, band2, band3 = (bands)\n",
    "print(band1)  \n",
    "\n",
    "# list inside tuples\n",
    "countries = (\"Pakistan\", [\"India\", \"Germany\"])\n",
    "print(countries)\n",
    "popped = countries[1].pop()\n",
    "\n",
    "print(popped)\n",
    "countries[1].append(\"France\")\n",
    "print(countries)\n"
   ]
  },
  {
   "cell_type": "code",
   "execution_count": 76,
   "metadata": {},
   "outputs": [
    {
     "name": "stdout",
     "output_type": "stream",
     "text": [
      "(1, 2, 3, 4, 5, 6, 7, 8, 9, 10)\n",
      "[1, 2, 3, 4, 5]\n",
      "<class 'list'>\n",
      "(1, 2, 3, 4, 5)\n",
      "<class 'str'>\n"
     ]
    }
   ],
   "source": [
    "# Lecture#52 – More about Tuples Part II\n",
    "\n",
    "# something more about tuples, list, str\n",
    "\n",
    "nums = tuple(range(1,11))\n",
    "print(nums)\n",
    "\n",
    "# from tuple to list\n",
    "nums = list((1,2,3,4,5))\n",
    "print(nums)\n",
    "print(type(nums))\n",
    "\n",
    "# from tuple to str\n",
    "nums = str((1,2,3,4,5))\n",
    "print(nums)\n",
    "print(type(nums))\n"
   ]
  },
  {
   "cell_type": "code",
   "execution_count": 77,
   "metadata": {},
   "outputs": [
    {
     "name": "stdout",
     "output_type": "stream",
     "text": [
      "{'name': 'awi', 'age': 24}\n",
      "<class 'dict'>\n",
      "{'name': 'awi', 'age': '24'}\n",
      "awi\n",
      "24\n",
      "['kungfu panda1', 'big hero']\n",
      "{'name': 'awinash', 'age': 34}\n"
     ]
    }
   ],
   "source": [
    "# Lecture#53 – Intro to Dictionary \n",
    "\n",
    "# dictionaries intro\n",
    "# we use dictionaries because of limitation of lists, lists are not enough\n",
    "\n",
    "# Q. what are dictionaries\n",
    "# A. unordered collections of data in key: values pair.\n",
    "\n",
    "# how to create dictionaries \n",
    "user1 = {'name':'awi', 'age':24}\n",
    "print(user1)\n",
    "print(type(user1))\n",
    "\n",
    "# second method to create dictionary\n",
    "user2 = dict(name = \"awi\", age=\"24\")\n",
    "print(user2)\n",
    "\n",
    "# how to access data from dictionary\n",
    "# Note: there is no indexing in dict because of unordered collection\n",
    "\n",
    "print(user1['name'])\n",
    "print(user1['age'])\n",
    "\n",
    "# what type of data can be stored in dictionary\n",
    "# anything, i.e. numbers, strings, lists, dictionary \n",
    "\n",
    "user_info = {\n",
    "    'name' : 'awi',\n",
    "    'age'  : '24',\n",
    "    'fav_movies' : [\"kungfu panda1\", \"big hero\"],\n",
    "    'fav_tones'  : [\"iphone\", \"morning\"],  \n",
    "}\n",
    "print(user_info['fav_movies'])\n",
    "\n",
    "# how to add data to empty dictionary \n",
    "user_info2 = {}\n",
    "user_info2['name'] = \"awinash\"\n",
    "user_info2['age']  = 34\n",
    "print(user_info2)\n"
   ]
  },
  {
   "cell_type": "code",
   "execution_count": 79,
   "metadata": {},
   "outputs": [
    {
     "name": "stdout",
     "output_type": "stream",
     "text": [
      "present\n",
      "present\n",
      "awi\n",
      "24\n",
      "['kungfu panda1', 'big hero']\n",
      "['iphone', 'morning']\n",
      "dict_values(['awi', 24, ['kungfu panda1', 'big hero'], ['iphone', 'morning']])\n",
      "<class 'dict_values'>\n",
      "dict_keys(['name', 'age', 'fav_movies', 'fav_tones'])\n",
      "<class 'dict_keys'>\n",
      "dict_items([('name', 'awi'), ('age', 24), ('fav_movies', ['kungfu panda1', 'big hero']), ('fav_tones', ['iphone', 'morning'])])\n",
      "<class 'dict_items'>\n",
      "key is name and value is awi\n",
      "key is age and value is 24\n",
      "key is fav_movies and value is ['kungfu panda1', 'big hero']\n",
      "key is fav_tones and value is ['iphone', 'morning']\n"
     ]
    }
   ],
   "source": [
    "# Lecture#54 – Looping and in keyword\n",
    "# in keyword and iterations in dictionary \n",
    "\n",
    "user_info = {\n",
    "    'name' : 'awi',\n",
    "    'age'  : 24,\n",
    "    'fav_movies' : [\"kungfu panda1\", \"big hero\"],\n",
    "    'fav_tones'  : [\"iphone\", \"morning\"],  \n",
    "}\n",
    "\n",
    "# check if key exist in dictionary \n",
    "if 'name' in user_info:\n",
    "    print(\"present\")\n",
    "else:\n",
    "    print(\"not present\")\n",
    "\n",
    "# check if value exists in dictionary \n",
    "if [\"kungfu panda1\", \"big hero\"] in user_info.values():\n",
    "    print(\"present\")\n",
    "else:\n",
    "    print(\"not present\")\n",
    "\n",
    "# loops in dictionaries\n",
    "for i in user_info.values():\n",
    "        print(i)\n",
    "\n",
    "# values method\n",
    "user_info_values = user_info.values()\n",
    "print(user_info_values)\n",
    "print(type(user_info_values))\n",
    "\n",
    "# keys method\n",
    "user_info_keys = user_info.keys()\n",
    "print(user_info_keys)\n",
    "print(type(user_info_keys))\n",
    "\n",
    "# items method\n",
    "user_items = user_info.items()\n",
    "print(user_items)\n",
    "print(type(user_items))\n",
    "\n",
    "for key, value in user_info.items():\n",
    "    print(f\"key is {key} and value is {value}\")\n",
    "\n"
   ]
  },
  {
   "cell_type": "code",
   "execution_count": 80,
   "metadata": {},
   "outputs": [
    {
     "name": "stdout",
     "output_type": "stream",
     "text": [
      "{'name': 'awi', 'age': 24, 'fav_movies': ['kungfu panda1', 'big hero'], 'fav_tones': ['iphone', 'morning'], 'fav_songs': ['song1', 'song2']}\n",
      "{'name': 'awi', 'age': 24, 'fav_tones': ['iphone', 'morning'], 'fav_songs': ['song1', 'song2']}\n",
      "{'name': 'awi', 'age': 24, 'fav_tones': ['iphone', 'morning']}\n"
     ]
    }
   ],
   "source": [
    "# Lecture#54 – Add and delete data from dictionary\n",
    "# # add and delete data\n",
    "\n",
    "user_info = {\n",
    "    'name' : 'awi',\n",
    "    'age'  : 24,\n",
    "    'fav_movies' : [\"kungfu panda1\", \"big hero\"],\n",
    "    'fav_tones'  : [\"iphone\", \"morning\"],  \n",
    "}\n",
    "\n",
    "#  how to add data\n",
    "user_info['fav_songs'] = ['song1', 'song2']\n",
    "print(user_info)\n",
    "\n",
    "\n",
    "# pop method\n",
    "popped_item = user_info.pop('fav_movies')\n",
    "print(user_info)\n",
    "\n",
    "# popitem method, popitem() will return tuple\n",
    "popped_item = user_info.popitem()   #will randomly delete any key value pair\n",
    "print(user_info)\n"
   ]
  },
  {
   "cell_type": "code",
   "execution_count": 81,
   "metadata": {},
   "outputs": [
    {
     "name": "stdout",
     "output_type": "stream",
     "text": [
      "{'name': 'awi', 'age': 24, 'fav_movies': ['kungfu panda1', 'big hero'], 'fav_tones': ['iphone', 'morning'], 'State': 'Sindh', 'hobbies': ['learning python', 'working hard']}\n"
     ]
    }
   ],
   "source": [
    "# Lecture#55 – update method dictionary\n",
    "# update method()\n",
    "\n",
    "user_info = {\n",
    "    'name' : 'awi',\n",
    "    'age'  : 24,\n",
    "    'fav_movies' : [\"kungfu panda1\", \"big hero\"],\n",
    "    'fav_tones'  : [\"iphone\", \"morning\"],  \n",
    "}\n",
    "\n",
    "more_info = {'State': 'Sindh', 'hobbies': ['learning python', 'working hard']}\n",
    "\n",
    "user_info.update(more_info)\n",
    "print(user_info)\n"
   ]
  },
  {
   "cell_type": "code",
   "execution_count": 82,
   "metadata": {},
   "outputs": [
    {
     "name": "stdout",
     "output_type": "stream",
     "text": [
      "{'name': ' ', 'age': ' ', 'height': ' '}\n",
      "unknown\n",
      "None\n",
      "false\n",
      "{}\n",
      "{}\n"
     ]
    }
   ],
   "source": [
    "# Lecture#56 – fromkeys, get, clear, copy method\n",
    "\n",
    "# fromkeys\n",
    "\n",
    "# d = {'name': 'unknow', 'age':'unknow'}\n",
    "\n",
    "d = dict.fromkeys(('name', 'age', 'height'), ' ')\n",
    "print(d)\n",
    "\n",
    "# get method (useful), used to get key that is not in dictionary rather to return error \n",
    "d = {'name': 'unknown', 'age':'unknown'}\n",
    "print(d['name'])\n",
    "print(d.get('names'))\n",
    "\n",
    "\n",
    "if d.get('name') in d:\n",
    "    print(\"present\")\n",
    "else:\n",
    "    print('false')\n",
    "\n",
    "# to empty dictionary \n",
    "d.clear()\n",
    "print(d)\n",
    "\n",
    "#copy method\n",
    "d1 = d.copy()\n",
    "print(d1) \n",
    "\n",
    "d1 = d  #same dictionary but not copy\n"
   ]
  },
  {
   "cell_type": "code",
   "execution_count": 86,
   "metadata": {},
   "outputs": [
    {
     "name": "stdout",
     "output_type": "stream",
     "text": [
      "awi\n",
      "None\n",
      "not found\n",
      "{'name': 'awi', 'age': 34}\n"
     ]
    }
   ],
   "source": [
    "# Lecture#57 – More about get() method\n",
    "\n",
    "user = {'name' : 'awi', 'age':24}\n",
    "print(user.get('name'))\n",
    "print(user.get('names'))    #will return none\n",
    "print(user.get('names', 'not found'))    #now it will return “not found” instead of none\n",
    "\n",
    "user = {'name' : 'awi', 'age':24, 'age': 34}\n",
    "print(user) # second age will override first one \n",
    "\n"
   ]
  },
  {
   "cell_type": "code",
   "execution_count": 87,
   "metadata": {},
   "outputs": [
    {
     "name": "stdout",
     "output_type": "stream",
     "text": [
      "{'a': 2, 'w': 1, 'i': 1, 'n': 1, 's': 1, 'h': 1}\n"
     ]
    }
   ],
   "source": [
    "# Lecture#57 – Word Counter Dictionary \n",
    "\n",
    "def word_counter(s):\n",
    "    count = {}\n",
    "    for i in s:\n",
    "        count[i] = s.count(i)\n",
    "    return count\n",
    "\n",
    "print(word_counter(\"awinash\"))\n"
   ]
  },
  {
   "cell_type": "code",
   "execution_count": 88,
   "metadata": {},
   "outputs": [
    {
     "name": "stdout",
     "output_type": "stream",
     "text": [
      "{1, 2, 3}\n",
      "{1, 2, 3, 4, 5, 6, 7, 8}\n",
      "[1, 2, 3, 4, 5, 6, 7, 8]\n",
      "{1, 2, 3, 4}\n",
      "{1, 2, 4}\n"
     ]
    },
    {
     "ename": "KeyError",
     "evalue": "10",
     "output_type": "error",
     "traceback": [
      "\u001b[1;31m---------------------------------------------------------------------------\u001b[0m",
      "\u001b[1;31mKeyError\u001b[0m                                  Traceback (most recent call last)",
      "\u001b[1;32m<ipython-input-88-876eed158f70>\u001b[0m in \u001b[0;36m<module>\u001b[1;34m()\u001b[0m\n\u001b[0;32m     25\u001b[0m \u001b[1;33m\u001b[0m\u001b[0m\n\u001b[0;32m     26\u001b[0m \u001b[1;31m# remove vs discard method\u001b[0m\u001b[1;33m\u001b[0m\u001b[1;33m\u001b[0m\u001b[0m\n\u001b[1;32m---> 27\u001b[1;33m \u001b[0ms\u001b[0m\u001b[1;33m.\u001b[0m\u001b[0mremove\u001b[0m\u001b[1;33m(\u001b[0m\u001b[1;36m10\u001b[0m\u001b[1;33m)\u001b[0m        \u001b[1;31m# 10 is not in set, it will generate error\u001b[0m\u001b[1;33m\u001b[0m\u001b[0m\n\u001b[0m\u001b[0;32m     28\u001b[0m \u001b[0ms\u001b[0m\u001b[1;33m.\u001b[0m\u001b[0mdiscard\u001b[0m\u001b[1;33m(\u001b[0m\u001b[1;36m10\u001b[0m\u001b[1;33m)\u001b[0m       \u001b[1;31m# 10 is not in set, it will not generate error\u001b[0m\u001b[1;33m\u001b[0m\u001b[0m\n\u001b[0;32m     29\u001b[0m \u001b[0mprint\u001b[0m\u001b[1;33m(\u001b[0m\u001b[0ms\u001b[0m\u001b[1;33m)\u001b[0m\u001b[1;33m\u001b[0m\u001b[0m\n",
      "\u001b[1;31mKeyError\u001b[0m: 10"
     ]
    }
   ],
   "source": [
    "# Lecture#58 – Intro to Sets\n",
    "# set data type\n",
    "# unordered collection of unique items\n",
    "\n",
    "s = {1,2,2,3}\n",
    "print(s)\n",
    "\n",
    "# print(s[i])       \n",
    "#error, set does not support indexing because of unordered collection \n",
    "\n",
    "l = [1,2,3,4,5,5,5,5,6,7,7,8]\n",
    "\n",
    "s2 = set(l)   #will convert l list into set, hence items will be unique\n",
    "s3 = list(set(l))   #now after set, list has all unique items\n",
    "print(s2)\n",
    "print(s3)\n",
    "\n",
    "# add method\n",
    "s.add(4)\n",
    "print(s)\n",
    "\n",
    "# remove method\n",
    "s.remove(3) \n",
    "print(s)\n",
    "\n",
    "# remove vs discard method\n",
    "s.remove(10)        # 10 is not in set, it will generate error\n",
    "s.discard(10)       # 10 is not in set, it will not generate error\n",
    "print(s)\n",
    "\n",
    "# clear method\n",
    "s.clear()           # will empty set\n",
    "print(s)\n",
    "\n",
    "# copy method\n",
    "s4 = s.copy()\n",
    "print(s4) \n",
    "\n",
    "# only int, float, and strings can be stored in set\n",
    "# tuple,list and dict cannot be saved in set\n",
    "\n",
    "s9 = {1,2.4,\"awi\"}\n",
    "print(s9)\n"
   ]
  },
  {
   "cell_type": "code",
   "execution_count": 89,
   "metadata": {},
   "outputs": [
    {
     "name": "stdout",
     "output_type": "stream",
     "text": [
      "present\n",
      "d\n",
      "a\n",
      "b\n",
      "c\n",
      "{1, 2, 3, 4, 5, 6, 7, 8}\n",
      "{4, 5}\n"
     ]
    }
   ],
   "source": [
    "# Lecture#58 – More about Sets\n",
    "s = {'a', 'b', 'c', 'd'}\n",
    "\n",
    "# if in set\n",
    "if 'a' in s:\n",
    "    print(\"present\")\n",
    "else:\n",
    "    print('not present')\n",
    "\n",
    "# for loop in set\n",
    "for i in s:\n",
    "    print(i)\n",
    "\n",
    "# set math\n",
    "s1 = {1,2,3,4,5}\n",
    "s2 = {4,5,6,7,8}\n",
    "\n",
    "# union\n",
    "print(s1 | s2)\n",
    "# Note s1.union(s2) == s1 | s2\n",
    "\n",
    "# intersection\n",
    "print(s1 & s2)\n",
    "# Note s1.intersection(s2) == s1 & s2\n"
   ]
  },
  {
   "cell_type": "code",
   "execution_count": 91,
   "metadata": {},
   "outputs": [
    {
     "name": "stdout",
     "output_type": "stream",
     "text": [
      "[1, 4, 9, 16, 25, 36, 49, 64, 81, 100]\n",
      "[1, 4, 9, 16, 25, 36, 49, 64, 81, 100]\n",
      "[-1, -8, -27, -64, -125, -216, -343, -512, -729, -1000]\n",
      "[-1, -8, -27, -64, -125, -216, -343, -512, -729, -1000]\n",
      "['a', 'g', 't']\n",
      "['a', 'g', 't']\n"
     ]
    }
   ],
   "source": [
    "# Lecture#59 – What is list comprehension?\n",
    "# list comprehension\n",
    "# with help of list comprehension we can create list in one line\n",
    "\n",
    "# create a list of squares from 1 to 10\n",
    "\n",
    "# ---------------------------example1--------------------------#\n",
    "\n",
    "# general method\n",
    "square = []\n",
    "for i in range(1,11):\n",
    "    square.append(i**2)\n",
    "print(square)\n",
    "\n",
    "# using list comprehension method\n",
    "square2 = [i**2 for i in range(1,11)]\n",
    "print(square2)\n",
    "\n",
    "# ---------------------------example2--------------------------#\n",
    "\n",
    "# general method\n",
    "negative_cube1 = []\n",
    "for i in range(1,11):\n",
    "    negative_cube1.append(-i**3)\n",
    "print(negative_cube1)\n",
    "\n",
    "# using list comprehension method\n",
    "negative_cube2 = [-i**3 for i in range(1,11)]\n",
    "print(negative_cube2)\n",
    "\n",
    "# ---------------------------example3--------------------------#\n",
    "\n",
    "# general method\n",
    "names = [\"awinash\", 'goswami', 'tandojam']\n",
    "first = []\n",
    "for name in names:\n",
    "    first.append(name[0])\n",
    "print(first)\n",
    "\n",
    "# using list comprehension\n",
    "new_list = [name[0] for name in names]\n",
    "print(new_list)\n"
   ]
  },
  {
   "cell_type": "code",
   "execution_count": 92,
   "metadata": {},
   "outputs": [
    {
     "name": "stdout",
     "output_type": "stream",
     "text": [
      "['hsaniwa', 'imawsog', 'jaraham']\n"
     ]
    }
   ],
   "source": [
    "# Lecture#60 – Exercise 1\n",
    "# define a function that takes list of string\n",
    "# list containing reverse of every string\n",
    "\n",
    "# NOTE - USE LIST COMPREHENSION \n",
    "\n",
    "def reverse_string(l):\n",
    "    return [name[::-1] for name in l]\n",
    "\n",
    "strings = [\"awinash\", \"goswami\", \"maharaj\"]\n",
    "print(reverse_string(strings))\n"
   ]
  },
  {
   "cell_type": "code",
   "execution_count": 93,
   "metadata": {},
   "outputs": [
    {
     "name": "stdout",
     "output_type": "stream",
     "text": [
      "[2, 4, 6, 8, 10]\n",
      "[2, 4, 6, 8, 10]\n",
      "[1, 3, 5, 7, 9]\n"
     ]
    }
   ],
   "source": [
    "# Lecture#60 – List Comprehension with if method\n",
    "# list comprehension with if statement\n",
    "\n",
    "numbers  = list(range(1,11))\n",
    "nums = []\n",
    "\n",
    "# general method\n",
    "for i in numbers:\n",
    "    if i%2==0:\n",
    "        nums.append(i)\n",
    "print(nums)\n",
    "\n",
    "# list comprehension method\n",
    "even_num = [i for i in numbers if i%2==0]\n",
    "odd_num  = [i for i in range(1,11) if i%2!=0]\n",
    "\n",
    "print(even_num)\n",
    "print(odd_num)\n"
   ]
  },
  {
   "cell_type": "code",
   "execution_count": 95,
   "metadata": {},
   "outputs": [
    {
     "name": "stdout",
     "output_type": "stream",
     "text": [
      "['1', '1.0', '5']\n"
     ]
    }
   ],
   "source": [
    "# Lecture#60 – List Comprehension with if method\n",
    "\n",
    "def filtered(l):\n",
    "        return [str(i) for i in l if (type(i)== int or type(i) == float)] \n",
    "\n",
    "print(filtered([True, False, [1,2,3], 1,1.0,5]))\n"
   ]
  },
  {
   "cell_type": "code",
   "execution_count": 96,
   "metadata": {},
   "outputs": [
    {
     "name": "stdout",
     "output_type": "stream",
     "text": [
      "[-1, 4, -3, 8, -5, 12, -7, 16, -9, 20]\n",
      "[-1, 4, -3, 8, -5, 12, -7, 16, -9, 20]\n"
     ]
    }
   ],
   "source": [
    "# Lecture#61 – List Comprehension with if else \n",
    "# list comprehension with if else\n",
    "\n",
    "nums = list(range(1,11))\n",
    "news_list = []\n",
    "\n",
    "# general method\n",
    "for i in nums:\n",
    "    if i%2==0:\n",
    "        news_list.append(i*2)\n",
    "    else:\n",
    "        news_list.append(-i)\n",
    "\n",
    "print(news_list)\n",
    "\n",
    "# using list comprehension\n",
    "news_list2 = [i*2 if (i%2==0) else -i for i in nums]\n",
    "print(news_list2)\n"
   ]
  },
  {
   "cell_type": "code",
   "execution_count": 97,
   "metadata": {},
   "outputs": [
    {
     "name": "stdout",
     "output_type": "stream",
     "text": [
      "[[1, 2, 3], [1, 2, 3], [1, 2, 3]]\n"
     ]
    }
   ],
   "source": [
    "# Lecture#62 – List Comprehension with nested list \n",
    "\n",
    "example = [[1,2,3], [1,2,3], [1,2,3]]\n",
    "\n",
    "nested_comp = [[i for i in range(1,4)] for j in range(3)]\n",
    "print(nested_comp)\n"
   ]
  },
  {
   "cell_type": "code",
   "execution_count": 100,
   "metadata": {},
   "outputs": [
    {
     "name": "stdout",
     "output_type": "stream",
     "text": [
      "{1: 1, 2: 4, 3: 9, 4: 16, 5: 25, 6: 36, 7: 49, 8: 64, 9: 81, 10: 100}\n",
      "{'a': 2, 'w': 1, 'i': 1, 'n': 1, 's': 1, 'h': 1}\n"
     ]
    }
   ],
   "source": [
    "# Lecture#63 – Dictionary Comprehension \n",
    "\n",
    "# dictionary comprehension\n",
    "\n",
    "# -----------------------example1-----------------------------#\n",
    "\n",
    "square  = {num:num**2 for num in range(1,11)}\n",
    "print(square)\n",
    "\n",
    "# -----------------------example2-----------------------------#\n",
    "\n",
    "string = \"awinash\"\n",
    "word_count = {char:string.count(char) for char in string}\n",
    "print(word_count)\n"
   ]
  },
  {
   "cell_type": "code",
   "execution_count": 104,
   "metadata": {},
   "outputs": [
    {
     "name": "stdout",
     "output_type": "stream",
     "text": [
      "{64, 1, 4, 36, 100, 9, 16, 49, 81, 25}\n",
      "{'G', 'T', 'A'}\n"
     ]
    }
   ],
   "source": [
    "# Lecture#64 – Sets Comprehension \n",
    "# sets comprehension \n",
    "\n",
    "# -----------------------example1-----------------------------#\n",
    "\n",
    "s = {k**2 for k in range(1,11)}\n",
    "print(s)\n",
    "\n",
    "# -----------------------example2-----------------------------#\n",
    "\n",
    "names = ['Awinash', 'Goswami', 'Tando jam']\n",
    "first = {name[0] for name in names}\n",
    "print(first)\n"
   ]
  },
  {
   "cell_type": "code",
   "execution_count": 106,
   "metadata": {},
   "outputs": [
    {
     "name": "stdout",
     "output_type": "stream",
     "text": [
      "(1, 2, 3, 4, 5, 6)\n",
      "<class 'tuple'>\n",
      "<function all_total at 0x000001D8DB160D08>\n",
      "127\n"
     ]
    }
   ],
   "source": [
    "# Lecture#65 – Intro to *args\n",
    "\n",
    "# make flexible functions ------------(self assigned name) \n",
    "# *operator \n",
    "# *args\n",
    "# *args behaves as tuple\n",
    " \n",
    "# -----------------------example1-----------------------------#\n",
    "\n",
    "def all_total(*args):\n",
    "    print(args)\n",
    "    print(type(args))\n",
    "\n",
    "all_total(1,2,3,4,5,6)\n",
    "print(all_total)\n",
    "\n",
    "# -----------------------example2-----------------------------#\n",
    "\n",
    "def sum_all(*args):\n",
    "    sum = 0\n",
    "    for i in args:\n",
    "        sum += i\n",
    "    return sum\n",
    "\n",
    "print(sum_all(3,4,4,7,11,98))\n"
   ]
  },
  {
   "cell_type": "code",
   "execution_count": 107,
   "metadata": {},
   "outputs": [
    {
     "name": "stdout",
     "output_type": "stream",
     "text": [
      "2\n",
      "(3, 4, 5)\n",
      "60\n"
     ]
    }
   ],
   "source": [
    "# Lecture#66 – *args with normal parameter \n",
    "# *args with normal parameter \n",
    "\n",
    "def multiply_nums(num, *args):\n",
    "    multiply = 1\n",
    "    print(num)\n",
    "    print(args)\n",
    "    for i in args:\n",
    "        multiply *= i\n",
    "    return multiply\n",
    "\n",
    "print(multiply_nums(2,3,4,5))\n"
   ]
  },
  {
   "cell_type": "code",
   "execution_count": 108,
   "metadata": {},
   "outputs": [
    {
     "name": "stdout",
     "output_type": "stream",
     "text": [
      "(2, 3, 4, 5)\n",
      "120\n",
      "(3, 4, 5, 6)\n",
      "360\n"
     ]
    }
   ],
   "source": [
    "# Lecture#67 – *args as argument\n",
    "\n",
    "def multiply_nums(*args):        \n",
    "    multiply = 1\n",
    "    print(args)\n",
    "    for i in args:\n",
    "        multiply *= i\n",
    "    return multiply\n",
    "\n",
    "nums1 = [2,3,4,5]\n",
    "nums2 = (3,4,5,6)\n",
    "\n",
    "print(multiply_nums(*nums1))\n",
    "print(multiply_nums(*nums2))\n",
    "\n",
    "# Note: while using list or tuple as argument, we must attach '*'\n"
   ]
  },
  {
   "cell_type": "code",
   "execution_count": 109,
   "metadata": {},
   "outputs": [
    {
     "name": "stdout",
     "output_type": "stream",
     "text": [
      "[8, 27, 64, 125]\n"
     ]
    }
   ],
   "source": [
    "# Lecture#68 – Exercise \n",
    "\n",
    "def multiply(num, *args):\n",
    "    if args:\n",
    "        return [i**num for i in args]\n",
    "    else:\n",
    "        return \"you did not pass any arg\" \n",
    "\n",
    "nums = [2,3,4,5]\n",
    "print(multiply(3,*nums))\n"
   ]
  },
  {
   "cell_type": "code",
   "execution_count": 110,
   "metadata": {},
   "outputs": [
    {
     "name": "stdout",
     "output_type": "stream",
     "text": [
      "{'first_name': 'awi', 'last_name': 'goswami'}\n",
      "<class 'dict'>\n",
      "{'first_name': 'John', 'last_name': 'Smith'}\n",
      "<class 'dict'>\n",
      "awi\n",
      "age : 24\n"
     ]
    }
   ],
   "source": [
    "# Lecture#69 – **kwargs\n",
    "# kwargs (keyword arguments)\n",
    "# **kwargs (double start operator)\n",
    "\n",
    "# kwargs as a parameter\n",
    "# **kwargs behaves as dictionary\n",
    "\n",
    "# method 1\n",
    "def func1(**kwargs):\n",
    "    print(kwargs)\n",
    "    print(type(kwargs))\n",
    "\n",
    "func1(first_name=\"awi\", last_name=\"goswami\")\n",
    "\n",
    "\n",
    "# method 2\n",
    "def func2(**kwargs):\n",
    "    for k,v in kwargs.items():\n",
    "        print(f\"{k} : {v}\")\n",
    "\n",
    "func1(first_name=\"John\", last_name=\"Smith\")\n",
    "\n",
    "\n",
    "# method 3\n",
    "def func3(name, **kwargs):\n",
    "    print(name)\n",
    "    for k,v in kwargs.items():\n",
    "        print(f\"{k} : {v}\")\n",
    "\n",
    "        \n",
    "# dictionary unpacking\n",
    "d = {\n",
    "    'name': 'awi',\n",
    "    'age' : 24 \n",
    "}\n",
    "\n",
    "func3(**d)\n"
   ]
  },
  {
   "cell_type": "code",
   "execution_count": 111,
   "metadata": {},
   "outputs": [
    {
     "name": "stdout",
     "output_type": "stream",
     "text": [
      "awinash\n",
      "(345,)\n",
      "unknown\n",
      "{'a': 1, 'b': 2}\n",
      "None\n"
     ]
    }
   ],
   "source": [
    "# Lecture#69 – function with all type of parameters \n",
    "\n",
    "\n",
    "#  function will all parameters\n",
    "# very important to understand\n",
    "\n",
    "# PADK\n",
    "\n",
    "# parameters\n",
    "# args\n",
    "# default parameters\n",
    "# kwargs\n",
    "# order must be followed as per above  \n",
    "\n",
    "def func(name, *args, last_name = 'unknown', **kwargs):\n",
    "    print(name)\n",
    "    print(args)\n",
    "    print(last_name)\n",
    "    print(kwargs)\n",
    "\n",
    "print(func('awinash', 345, a = 1, b = 2))\n"
   ]
  },
  {
   "cell_type": "code",
   "execution_count": 112,
   "metadata": {},
   "outputs": [
    {
     "name": "stdout",
     "output_type": "stream",
     "text": [
      "['Hsaniwa', 'Imawsog']\n"
     ]
    }
   ],
   "source": [
    "# Lecture#70 – Exercise \n",
    "# function \n",
    "# list, reverse_str = True\n",
    "# list\n",
    "\n",
    "def func(l, **kwargs):\n",
    "    if kwargs.get('reverse_str') ==  True:\n",
    "        return [name[::-1].title() for name in l]\n",
    "    else:\n",
    "        return [name.title() for name in l]\n",
    "\n",
    "names = ['awinash', 'goswami']\n",
    "print(func(names, reverse_str = True))\n"
   ]
  },
  {
   "cell_type": "code",
   "execution_count": 113,
   "metadata": {},
   "outputs": [
    {
     "name": "stdout",
     "output_type": "stream",
     "text": [
      "7\n",
      "15\n"
     ]
    }
   ],
   "source": [
    "# Lecture#70 – Lambda function/expression\n",
    "\n",
    "# lambda expression (anonymous function)\n",
    "\n",
    "# normal function\n",
    "def add(a,b):\n",
    "    return a+b\n",
    "\n",
    "# lambda function/expression\n",
    "# lambda function/expression is helpful for declaring function in one line\n",
    " \n",
    "add2 = lambda a,b : a+b\n",
    "\n",
    "print(add2(3,4))  \n",
    "\n",
    "multiply = lambda a,b : a*b\n",
    "print(multiply(5,3))\n"
   ]
  },
  {
   "cell_type": "code",
   "execution_count": 114,
   "metadata": {},
   "outputs": [
    {
     "name": "stdout",
     "output_type": "stream",
     "text": [
      "False\n",
      "False\n",
      "p\n",
      "True\n"
     ]
    }
   ],
   "source": [
    "# Lecture#71 – Lambda function/expression practice\n",
    "\n",
    "# lambda expression practice \n",
    "\n",
    "# normal function\n",
    "def is_even(a):\n",
    "    return a%2==0\n",
    "print(is_even(9))\n",
    "\n",
    "# lambda function\n",
    "is_even2 = lambda a: a%2==0\n",
    "print(is_even2(9))\n",
    "\n",
    "def last_char(s):\n",
    "    return s[-1]\n",
    "\n",
    "last_char1 = lambda s : s[-1]\n",
    "print(last_char1(\"stop\"))\n",
    "\n",
    "# lambda with if, else\n",
    "def func(string):\n",
    "    return len(string) > 5\n",
    "\n",
    "length = lambda strings : len(strings)> 5\n",
    "print(length(\"awinash\"))\n"
   ]
  },
  {
   "cell_type": "code",
   "execution_count": 115,
   "metadata": {},
   "outputs": [
    {
     "name": "stdout",
     "output_type": "stream",
     "text": [
      "0 - awinsh\n",
      "1 - goswami\n",
      "2 - tandojam\n",
      "0 - ['awinsh', 'goswami', 'tandojam']\n",
      "1 - ['awinsh', 'goswami', 'tandojam']\n",
      "2 - ['awinsh', 'goswami', 'tandojam']\n",
      "1\n"
     ]
    }
   ],
   "source": [
    "# Lecture#72 – Enumerate function \n",
    "\n",
    "# enumerate function \n",
    "\n",
    "# we use enumerate function with for loop to track position of our\n",
    "# item in iterable\n",
    "\n",
    "# without enumerate function \n",
    "names = ['awinsh', 'goswami', 'tandojam']\n",
    "pos = 0\n",
    "for i in names:\n",
    "    print(f\"{pos} - {i}\")\n",
    "    pos += 1\n",
    "\n",
    "    \n",
    "# with enumerate function \n",
    "for pos, name in enumerate(names):\n",
    "    print(f\"{pos} - {names}\")\n",
    "\n",
    "    \n",
    "# Define a function that takes two arguments\n",
    "# 1. list containing string\n",
    "# 2. string that want to find in your list\n",
    "# and this function will return the index of string in your\n",
    "# list and if string is not present then return -1\n",
    "\n",
    "def func(l, strings):\n",
    "    for pos, name in enumerate(l):\n",
    "        if name == strings:\n",
    "            return pos\n",
    "    return -1\n",
    " \n",
    "cities = [\"Tando Jam\",  \"Hyderabad\"]\n",
    "print(func(cities, \"Hyderabad\"))\n"
   ]
  },
  {
   "cell_type": "code",
   "execution_count": 116,
   "metadata": {},
   "outputs": [
    {
     "name": "stdout",
     "output_type": "stream",
     "text": [
      "[1, 4, 9, 16]\n",
      "[1, 4, 9, 16]\n"
     ]
    }
   ],
   "source": [
    "# Lecture#73 – map function \n",
    "\n",
    "# map function  \n",
    "\n",
    "def squares(a):\n",
    "    return a**2\n",
    "\n",
    "numbers = [1,2,3,4]\n",
    "\n",
    "square = list(map(squares, numbers))\n",
    "print(square)\n",
    "\n",
    "# using lambda expression \n",
    "\n",
    "new_squares = list(map(lambda a:a**2, numbers))\n",
    "print(new_squares)\n"
   ]
  },
  {
   "cell_type": "code",
   "execution_count": 117,
   "metadata": {},
   "outputs": [
    {
     "name": "stdout",
     "output_type": "stream",
     "text": [
      "(2, 4, 6, 8)\n"
     ]
    }
   ],
   "source": [
    "# Lecture#73 – map function \n",
    "\n",
    "# filter function \n",
    "\n",
    "numbers = [1,2,3,4,5,6,7,8,9]\n",
    "\n",
    "def is_even(a):\n",
    "    return a%2 == 0\n",
    "\n",
    "evens = tuple(filter(is_even, numbers))\n",
    "print(evens)\n",
    "\n",
    "# Note: Please Google iterator VS iterable for further explanation\n"
   ]
  },
  {
   "cell_type": "code",
   "execution_count": 120,
   "metadata": {},
   "outputs": [
    {
     "name": "stdout",
     "output_type": "stream",
     "text": [
      "{'user1': 'awinash', 'user2': 'parshant', 'user3': 'govinda'}\n",
      "[('user1', 'awinash', 'goswami'), ('user2', 'parshant', 'goswami'), ('user3', 'govinda', 'goswami')]\n"
     ]
    }
   ],
   "source": [
    "# Lecture#74 – Zip function \n",
    "\n",
    "# zip function \n",
    "\n",
    "users_id = ['user1', 'user2', 'user3']\n",
    "first_names = ['awinash', 'parshant', 'govinda']\n",
    "last_names = ['goswami', 'goswami', 'goswami']\n",
    "\n",
    "print(dict(zip(users_id, first_names)))\n",
    "# print(dict(zip(users_id, first_names, last_names)))  #error, dict takes only two parameters \n",
    "print(list(zip(users_id, first_names, last_names)))\n"
   ]
  },
  {
   "cell_type": "code",
   "execution_count": 121,
   "metadata": {},
   "outputs": [
    {
     "name": "stdout",
     "output_type": "stream",
     "text": [
      "[1, 3, 5, 7]\n",
      "[2, 4, 6, 8]\n",
      "[2, 4, 6, 8]\n"
     ]
    }
   ],
   "source": [
    "# Lecture#75 – Zip function part II\n",
    "\n",
    "l1 = [1,3,5,7]\n",
    "l2 = [2,4,6,8]\n",
    "\n",
    "l = [(1,2), (3,4), (5,6), (7,8)]\n",
    "\n",
    "# * operator with zip\n",
    "l1, l2 = list(zip(*l))\n",
    "print(list(l1))\n",
    "print(list(l2))\n",
    "\n",
    "new_list = []\n",
    "for pair in zip(l1, l2):\n",
    "    new_list.append(max(pair))\n",
    "\n",
    "print(new_list)\n"
   ]
  },
  {
   "cell_type": "code",
   "execution_count": 123,
   "metadata": {},
   "outputs": [
    {
     "ename": "TypeError",
     "evalue": "'float' object is not callable",
     "output_type": "error",
     "traceback": [
      "\u001b[1;31m---------------------------------------------------------------------------\u001b[0m",
      "\u001b[1;31mTypeError\u001b[0m                                 Traceback (most recent call last)",
      "\u001b[1;32m<ipython-input-123-142483e70b42>\u001b[0m in \u001b[0;36m<module>\u001b[1;34m()\u001b[0m\n\u001b[0;32m      8\u001b[0m \u001b[1;33m\u001b[0m\u001b[0m\n\u001b[0;32m      9\u001b[0m \u001b[0ml1\u001b[0m\u001b[1;33m,\u001b[0m \u001b[0ml2\u001b[0m\u001b[1;33m,\u001b[0m \u001b[0ml3\u001b[0m \u001b[1;33m=\u001b[0m \u001b[1;33m[\u001b[0m\u001b[1;36m1\u001b[0m\u001b[1;33m,\u001b[0m\u001b[1;36m2\u001b[0m\u001b[1;33m,\u001b[0m\u001b[1;36m3\u001b[0m\u001b[1;33m]\u001b[0m\u001b[1;33m,\u001b[0m \u001b[1;33m[\u001b[0m\u001b[1;36m4\u001b[0m\u001b[1;33m,\u001b[0m\u001b[1;36m5\u001b[0m\u001b[1;33m,\u001b[0m\u001b[1;36m6\u001b[0m\u001b[1;33m]\u001b[0m\u001b[1;33m,\u001b[0m \u001b[1;33m[\u001b[0m\u001b[1;36m7\u001b[0m\u001b[1;33m,\u001b[0m\u001b[1;36m8\u001b[0m\u001b[1;33m,\u001b[0m\u001b[1;36m9\u001b[0m\u001b[1;33m]\u001b[0m\u001b[1;33m\u001b[0m\u001b[0m\n\u001b[1;32m---> 10\u001b[1;33m \u001b[0mprint\u001b[0m\u001b[1;33m(\u001b[0m\u001b[0maverage_finder\u001b[0m\u001b[1;33m(\u001b[0m\u001b[0ml1\u001b[0m\u001b[1;33m,\u001b[0m\u001b[0ml2\u001b[0m\u001b[1;33m,\u001b[0m\u001b[0ml3\u001b[0m\u001b[1;33m)\u001b[0m\u001b[1;33m)\u001b[0m\u001b[1;33m\u001b[0m\u001b[0m\n\u001b[0m\u001b[0;32m     11\u001b[0m \u001b[1;33m\u001b[0m\u001b[0m\n\u001b[0;32m     12\u001b[0m \u001b[1;31m# using lambda expression\u001b[0m\u001b[1;33m\u001b[0m\u001b[1;33m\u001b[0m\u001b[0m\n",
      "\u001b[1;32m<ipython-input-123-142483e70b42>\u001b[0m in \u001b[0;36maverage_finder\u001b[1;34m(*args)\u001b[0m\n\u001b[0;32m      4\u001b[0m     \u001b[0maverage\u001b[0m \u001b[1;33m=\u001b[0m \u001b[1;33m[\u001b[0m\u001b[1;33m]\u001b[0m\u001b[1;33m\u001b[0m\u001b[0m\n\u001b[0;32m      5\u001b[0m     \u001b[1;32mfor\u001b[0m \u001b[0mpair\u001b[0m \u001b[1;32min\u001b[0m \u001b[0mzip\u001b[0m\u001b[1;33m(\u001b[0m\u001b[1;33m*\u001b[0m\u001b[0margs\u001b[0m\u001b[1;33m)\u001b[0m\u001b[1;33m:\u001b[0m\u001b[1;33m\u001b[0m\u001b[0m\n\u001b[1;32m----> 6\u001b[1;33m         \u001b[0maverage\u001b[0m\u001b[1;33m.\u001b[0m\u001b[0mappend\u001b[0m\u001b[1;33m(\u001b[0m\u001b[0msum\u001b[0m\u001b[1;33m(\u001b[0m\u001b[0mpair\u001b[0m\u001b[1;33m)\u001b[0m\u001b[1;33m/\u001b[0m\u001b[0mlen\u001b[0m\u001b[1;33m(\u001b[0m\u001b[0mpair\u001b[0m\u001b[1;33m)\u001b[0m\u001b[1;33m)\u001b[0m\u001b[1;33m\u001b[0m\u001b[0m\n\u001b[0m\u001b[0;32m      7\u001b[0m     \u001b[1;32mreturn\u001b[0m \u001b[0maverage\u001b[0m\u001b[1;33m\u001b[0m\u001b[0m\n\u001b[0;32m      8\u001b[0m \u001b[1;33m\u001b[0m\u001b[0m\n",
      "\u001b[1;31mTypeError\u001b[0m: 'float' object is not callable"
     ]
    }
   ],
   "source": [
    "# Challenge\n",
    "\n",
    "def average_finder(*args):\n",
    "    average = []\n",
    "    for pair in zip(*args):\n",
    "        average.append(sum(pair)/len(pair))\n",
    "    return average\n",
    "\n",
    "l1, l2, l3 = [1,2,3], [4,5,6], [7,8,9]\n",
    "print(average_finder(l1,l2,l3))\n",
    "\n",
    "# using lambda expression \n",
    "\n",
    "average_finder_lambda = lambda *args: [sum(pair)/len(pair) for pair in zip(*args)]\n",
    "print(average_finder_lambda(l1,l2,l3))\n"
   ]
  },
  {
   "cell_type": "code",
   "execution_count": 124,
   "metadata": {},
   "outputs": [
    {
     "name": "stdout",
     "output_type": "stream",
     "text": [
      "[True]\n",
      "[False]\n"
     ]
    }
   ],
   "source": [
    "# Lecture#76 – all and any function\n",
    "\n",
    "# any, all function\n",
    "\n",
    "numbers1 = [2,4,6,8,10]\n",
    "numbers2 = [1,3,5]\n",
    "\n",
    "print([all(num%2==0 for num in numbers1)])\n",
    "print([any(num%2==0 for num in numbers2)])\n"
   ]
  },
  {
   "cell_type": "code",
   "execution_count": 127,
   "metadata": {},
   "outputs": [
    {
     "name": "stdout",
     "output_type": "stream",
     "text": [
      "15.7\n",
      "Wrong input\n"
     ]
    }
   ],
   "source": [
    "# Lecture#77 – all and any function practice\n",
    "\n",
    "def my_sum(*args):\n",
    "    if all([type(arg) ==  int or type(arg) == float for arg in args]):\n",
    "        total = 0\n",
    "        for arg in args:\n",
    "            total += arg\n",
    "        return total\n",
    "    else:\n",
    "        return \"Wrong input\"\n",
    "\n",
    "print(my_sum(1,2,3,4,5.7))\n",
    "print(my_sum(1,2,3,4,5.7, \"awi\"))\n"
   ]
  },
  {
   "cell_type": "code",
   "execution_count": 128,
   "metadata": {},
   "outputs": [
    {
     "name": "stdout",
     "output_type": "stream",
     "text": [
      "parshant\n",
      "rahul\n"
     ]
    }
   ],
   "source": [
    "# Lecture#77 – advance min and max function\n",
    "\n",
    "# advance min() and mix()\n",
    "\n",
    "students1 = {\n",
    "    'awinash' : {'score':50, 'age': 23},\n",
    "    'labesh'  : {'score':60, 'age': 24},\n",
    "    'parshant'  : {'score':70, 'age': 25}\n",
    "}\n",
    "\n",
    "print(max(students1, key = lambda item: students1[item]['score']))\n",
    "\n",
    "students2 = [\n",
    "    {'name': 'awinash', 'score': 90, 'age':24},\n",
    "    {'name': 'labesh', 'score': 100, 'age':25},\n",
    "    {'name': 'rahul', 'score': 110, 'age':26},\n",
    "]\n",
    "\n",
    "print(max(students2, key = lambda item: item.get('score'))['name'])\n"
   ]
  },
  {
   "cell_type": "code",
   "execution_count": 129,
   "metadata": {},
   "outputs": [
    {
     "name": "stdout",
     "output_type": "stream",
     "text": [
      "('BMW', 'AUDI', 'Chevrolet', 'Mitsubhi')\n",
      "['AUDI', 'BMW', 'Chevrolet', 'Mitsubhi']\n",
      "[{'model': 'yamaha f310', 'price': 8400}, {'model': 'faith apollo venus', 'price': 35000}, {'model': 'faith naptune', 'price': 54000}, {'model': 'taylor 814ce', 'price': 450000}]\n",
      "[{'model': 'yamaha f310', 'price': 8400}, {'model': 'faith apollo venus', 'price': 35000}, {'model': 'faith naptune', 'price': 54000}, {'model': 'taylor 814ce', 'price': 450000}]\n"
     ]
    }
   ],
   "source": [
    "# Lecture#78 – sorted function in advance\n",
    "\n",
    "# Advance sorted function \n",
    "\n",
    "cars = ('BMW', 'AUDI', 'Chevrolet', 'Mitsubhi')\n",
    "sorted(cars)\n",
    "print(cars) \n",
    "\n",
    "# Note: tuples are immutable, hence they are showing same result \n",
    "# However here we can see them sorted using sorted function with print\n",
    "\n",
    "print(sorted(cars))\n",
    "\n",
    "guitars = [\n",
    "    {'model': 'yamaha f310', 'price': 8400},\n",
    "    {'model': 'faith naptune', 'price': 54000},\n",
    "    {'model': 'faith apollo venus', 'price': 35000},\n",
    "    {'model': 'taylor 814ce', 'price': 450000},\n",
    "]\n",
    "\n",
    "sorted_guitars =  sorted(guitars, key = lambda d: d['price'])\n",
    "# sorted in ascending order w.r.t price\n",
    "print(sorted_guitars)\n",
    "\n",
    "sorted_guitars2 = sorted(guitars, key = lambda d: d['price'], reverse=True)\n",
    "# sorted in descending order w.r.t price\n",
    "print(sorted_guitars)\n",
    "\n"
   ]
  },
  {
   "cell_type": "code",
   "execution_count": 131,
   "metadata": {},
   "outputs": [
    {
     "name": "stdout",
     "output_type": "stream",
     "text": [
      "this function takes 2 numbers and return their sum \n",
      "\n",
      "Return a new list containing all items from the iterable in ascending order.\n",
      "\n",
      "A custom key function can be supplied to customize the sort order, and the\n",
      "reverse flag can be set to request the result in descending order.\n",
      "Help on float object:\n",
      "\n",
      "class float(object)\n",
      " |  float(x) -> floating point number\n",
      " |  \n",
      " |  Convert a string or number to a floating point number, if possible.\n",
      " |  \n",
      " |  Methods defined here:\n",
      " |  \n",
      " |  __abs__(self, /)\n",
      " |      abs(self)\n",
      " |  \n",
      " |  __add__(self, value, /)\n",
      " |      Return self+value.\n",
      " |  \n",
      " |  __bool__(self, /)\n",
      " |      self != 0\n",
      " |  \n",
      " |  __divmod__(self, value, /)\n",
      " |      Return divmod(self, value).\n",
      " |  \n",
      " |  __eq__(self, value, /)\n",
      " |      Return self==value.\n",
      " |  \n",
      " |  __float__(self, /)\n",
      " |      float(self)\n",
      " |  \n",
      " |  __floordiv__(self, value, /)\n",
      " |      Return self//value.\n",
      " |  \n",
      " |  __format__(...)\n",
      " |      float.__format__(format_spec) -> string\n",
      " |      \n",
      " |      Formats the float according to format_spec.\n",
      " |  \n",
      " |  __ge__(self, value, /)\n",
      " |      Return self>=value.\n",
      " |  \n",
      " |  __getattribute__(self, name, /)\n",
      " |      Return getattr(self, name).\n",
      " |  \n",
      " |  __getformat__(...) from builtins.type\n",
      " |      float.__getformat__(typestr) -> string\n",
      " |      \n",
      " |      You probably don't want to use this function.  It exists mainly to be\n",
      " |      used in Python's test suite.\n",
      " |      \n",
      " |      typestr must be 'double' or 'float'.  This function returns whichever of\n",
      " |      'unknown', 'IEEE, big-endian' or 'IEEE, little-endian' best describes the\n",
      " |      format of floating point numbers used by the C type named by typestr.\n",
      " |  \n",
      " |  __getnewargs__(...)\n",
      " |  \n",
      " |  __gt__(self, value, /)\n",
      " |      Return self>value.\n",
      " |  \n",
      " |  __hash__(self, /)\n",
      " |      Return hash(self).\n",
      " |  \n",
      " |  __int__(self, /)\n",
      " |      int(self)\n",
      " |  \n",
      " |  __le__(self, value, /)\n",
      " |      Return self<=value.\n",
      " |  \n",
      " |  __lt__(self, value, /)\n",
      " |      Return self<value.\n",
      " |  \n",
      " |  __mod__(self, value, /)\n",
      " |      Return self%value.\n",
      " |  \n",
      " |  __mul__(self, value, /)\n",
      " |      Return self*value.\n",
      " |  \n",
      " |  __ne__(self, value, /)\n",
      " |      Return self!=value.\n",
      " |  \n",
      " |  __neg__(self, /)\n",
      " |      -self\n",
      " |  \n",
      " |  __new__(*args, **kwargs) from builtins.type\n",
      " |      Create and return a new object.  See help(type) for accurate signature.\n",
      " |  \n",
      " |  __pos__(self, /)\n",
      " |      +self\n",
      " |  \n",
      " |  __pow__(self, value, mod=None, /)\n",
      " |      Return pow(self, value, mod).\n",
      " |  \n",
      " |  __radd__(self, value, /)\n",
      " |      Return value+self.\n",
      " |  \n",
      " |  __rdivmod__(self, value, /)\n",
      " |      Return divmod(value, self).\n",
      " |  \n",
      " |  __repr__(self, /)\n",
      " |      Return repr(self).\n",
      " |  \n",
      " |  __rfloordiv__(self, value, /)\n",
      " |      Return value//self.\n",
      " |  \n",
      " |  __rmod__(self, value, /)\n",
      " |      Return value%self.\n",
      " |  \n",
      " |  __rmul__(self, value, /)\n",
      " |      Return value*self.\n",
      " |  \n",
      " |  __round__(...)\n",
      " |      Return the Integral closest to x, rounding half toward even.\n",
      " |      When an argument is passed, work like built-in round(x, ndigits).\n",
      " |  \n",
      " |  __rpow__(self, value, mod=None, /)\n",
      " |      Return pow(value, self, mod).\n",
      " |  \n",
      " |  __rsub__(self, value, /)\n",
      " |      Return value-self.\n",
      " |  \n",
      " |  __rtruediv__(self, value, /)\n",
      " |      Return value/self.\n",
      " |  \n",
      " |  __setformat__(...) from builtins.type\n",
      " |      float.__setformat__(typestr, fmt) -> None\n",
      " |      \n",
      " |      You probably don't want to use this function.  It exists mainly to be\n",
      " |      used in Python's test suite.\n",
      " |      \n",
      " |      typestr must be 'double' or 'float'.  fmt must be one of 'unknown',\n",
      " |      'IEEE, big-endian' or 'IEEE, little-endian', and in addition can only be\n",
      " |      one of the latter two if it appears to match the underlying C reality.\n",
      " |      \n",
      " |      Override the automatic determination of C-level floating point type.\n",
      " |      This affects how floats are converted to and from binary strings.\n",
      " |  \n",
      " |  __str__(self, /)\n",
      " |      Return str(self).\n",
      " |  \n",
      " |  __sub__(self, value, /)\n",
      " |      Return self-value.\n",
      " |  \n",
      " |  __truediv__(self, value, /)\n",
      " |      Return self/value.\n",
      " |  \n",
      " |  __trunc__(...)\n",
      " |      Return the Integral closest to x between 0 and x.\n",
      " |  \n",
      " |  as_integer_ratio(...)\n",
      " |      float.as_integer_ratio() -> (int, int)\n",
      " |      \n",
      " |      Return a pair of integers, whose ratio is exactly equal to the original\n",
      " |      float and with a positive denominator.\n",
      " |      Raise OverflowError on infinities and a ValueError on NaNs.\n",
      " |      \n",
      " |      >>> (10.0).as_integer_ratio()\n",
      " |      (10, 1)\n",
      " |      >>> (0.0).as_integer_ratio()\n",
      " |      (0, 1)\n",
      " |      >>> (-.25).as_integer_ratio()\n",
      " |      (-1, 4)\n",
      " |  \n",
      " |  conjugate(...)\n",
      " |      Return self, the complex conjugate of any float.\n",
      " |  \n",
      " |  fromhex(...) from builtins.type\n",
      " |      float.fromhex(string) -> float\n",
      " |      \n",
      " |      Create a floating-point number from a hexadecimal string.\n",
      " |      >>> float.fromhex('0x1.ffffp10')\n",
      " |      2047.984375\n",
      " |      >>> float.fromhex('-0x1p-1074')\n",
      " |      -5e-324\n",
      " |  \n",
      " |  hex(...)\n",
      " |      float.hex() -> string\n",
      " |      \n",
      " |      Return a hexadecimal representation of a floating-point number.\n",
      " |      >>> (-0.1).hex()\n",
      " |      '-0x1.999999999999ap-4'\n",
      " |      >>> 3.14159.hex()\n",
      " |      '0x1.921f9f01b866ep+1'\n",
      " |  \n",
      " |  is_integer(...)\n",
      " |      Return True if the float is an integer.\n",
      " |  \n",
      " |  ----------------------------------------------------------------------\n",
      " |  Data descriptors defined here:\n",
      " |  \n",
      " |  imag\n",
      " |      the imaginary part of a complex number\n",
      " |  \n",
      " |  real\n",
      " |      the real part of a complex number\n",
      "\n",
      "None\n"
     ]
    }
   ],
   "source": [
    "# Lecture#79 – More about functions\n",
    "\n",
    "# what are doc strings\n",
    "# how to write docstrings\n",
    "# how to see docstrings\n",
    "# what is help function\n",
    "\n",
    "def add(a,b):\n",
    "    '''this function takes 2 numbers and return their sum \\n'''\n",
    "    return a+b \n",
    "\n",
    "print(add.__doc__)\n",
    "print(sorted.__doc__)\n",
    "print(help(sum))\n"
   ]
  },
  {
   "cell_type": "code",
   "execution_count": 132,
   "metadata": {},
   "outputs": [
    {
     "name": "stdout",
     "output_type": "stream",
     "text": [
      "64\n",
      "square\n",
      "square\n",
      "<function square at 0x000001D8DB21C0D0>\n",
      "<function square at 0x000001D8DB21C0D0>\n"
     ]
    }
   ],
   "source": [
    "# Lecture#80 – Decorator chapter intro\n",
    "#  First class function/closure\n",
    "# then finally we will learn about decorators \n",
    "\n",
    "def square(a):\n",
    "    return a**2\n",
    "\n",
    "s = square          # now s will be treated as square() \n",
    "print(s(8))     \n",
    "print(s.__name__)\n",
    "print(square.__name__)\n",
    "print(s)            \n",
    "print(square)       # that's why both s and square have same memory location \n",
    "\n"
   ]
  },
  {
   "cell_type": "code",
   "execution_count": 133,
   "metadata": {},
   "outputs": [
    {
     "name": "stdout",
     "output_type": "stream",
     "text": [
      "[1, 4, 9, 16]\n"
     ]
    }
   ],
   "source": [
    "# Lecture#81 – Function as argument\n",
    "\n",
    "# function as argument\n",
    "\n",
    "l = [1,2,3,4]\n",
    "\n",
    "def square(a):\n",
    "    return a**2\n",
    "\n",
    "def my_map(func, l):\n",
    "    new_list = []\n",
    "    for item in l:\n",
    "        new_list.append(func(item))\n",
    "    return new_list\n",
    "\n",
    "print(my_map(square, l))\n"
   ]
  },
  {
   "cell_type": "code",
   "execution_count": 134,
   "metadata": {},
   "outputs": [
    {
     "name": "stdout",
     "output_type": "stream",
     "text": [
      " message is Hello\n"
     ]
    }
   ],
   "source": [
    "# Lecture#82 – Function returning function\n",
    "\n",
    "# function returning function\n",
    "\n",
    "def outer_func(msg):\n",
    "    def inner_func():\n",
    "        print(f\" message is {msg}\")\n",
    "    return inner_func\n",
    "\n",
    "func_var = outer_func(\"Hello\")\n",
    "func_var()\n"
   ]
  },
  {
   "cell_type": "code",
   "execution_count": 135,
   "metadata": {},
   "outputs": [
    {
     "name": "stdout",
     "output_type": "stream",
     "text": [
      "8\n",
      "16\n"
     ]
    }
   ],
   "source": [
    "# Lecture#83 – Closure Practice\n",
    "\n",
    "# function returning function (closures) practice \n",
    "# also called first class function \n",
    "# practical example\n",
    "\n",
    "def to_power(x):\n",
    "    def cal_power(n):\n",
    "        return n**x\n",
    "    return cal_power\n",
    "\n",
    "cube = to_power(3)\n",
    "print(cube(2))\n",
    " \n",
    "square = to_power(2)\n",
    "print(square(4))\n"
   ]
  },
  {
   "cell_type": "code",
   "execution_count": 136,
   "metadata": {},
   "outputs": [
    {
     "name": "stdout",
     "output_type": "stream",
     "text": [
      "This is awesome function\n",
      "This is function 1\n"
     ]
    }
   ],
   "source": [
    "# Lecture#84 – Decorator Intro\n",
    "\n",
    "# Decorators - enhance the functionality of other functions\n",
    "# @ use for decorator - called syntactic sugar\n",
    "\n",
    "def decorator_function(any_function):\n",
    "    def wrapper_function():\n",
    "        print(\"This is awesome function\")\n",
    "        any_function()\n",
    "    return wrapper_function\n",
    "\n",
    "@decorator_function\n",
    "def func1():\n",
    "    print(\"This is function 1\")\n",
    "\n",
    "func1()\n"
   ]
  },
  {
   "cell_type": "code",
   "execution_count": 137,
   "metadata": {},
   "outputs": [
    {
     "name": "stdout",
     "output_type": "stream",
     "text": [
      "This is awesome function\n",
      "This is function1 with argument 5\n",
      "This is awesome function\n",
      "8\n"
     ]
    }
   ],
   "source": [
    "# Lecture#85 – Decorator Intro Part II\n",
    "\n",
    "def decorator_function(any_function):\n",
    "    def wrapper_function(*args, **kwargs):\n",
    "        print(\"This is awesome function\")\n",
    "        return any_function(*args, **kwargs)\n",
    "    return wrapper_function\n",
    "\n",
    "@decorator_function\n",
    "def func1(x):\n",
    "    print(f\"This is function1 with argument {x}\")\n",
    "\n",
    "func1(5)\n",
    "\n",
    "@decorator_function\n",
    "def add(a,b):\n",
    "    return a+b\n",
    "\n",
    "print(add(5,3))"
   ]
  },
  {
   "cell_type": "code",
   "execution_count": 138,
   "metadata": {},
   "outputs": [
    {
     "name": "stdout",
     "output_type": "stream",
     "text": [
      "this is add function\n",
      "add\n"
     ]
    }
   ],
   "source": [
    "# Lecture#86 – Decorator Intro Part III\n",
    "\n",
    "from functools import wraps\n",
    "\n",
    "def decorator_function(any_function):\n",
    "    @wraps(any_function)\n",
    "    def wrapper_function(*args, **kwargs):\n",
    "        \"\"\"this is wrapper function\"\"\"\n",
    "        print(\"This is awesome function\")\n",
    "        return any_function(*args, **kwargs)\n",
    "    return wrapper_function\n",
    "\n",
    "@decorator_function\n",
    "def add(a,b):\n",
    "    '''this is add function'''\n",
    "    return a+b\n",
    " \n",
    "print(add.__doc__)\n",
    "print(add.__name__)\n"
   ]
  },
  {
   "cell_type": "code",
   "execution_count": 139,
   "metadata": {},
   "outputs": [
    {
     "name": "stdout",
     "output_type": "stream",
     "text": [
      "You are calling addition function\n",
      "This function takes two numbers as argument and return their sum\n",
      "13\n"
     ]
    }
   ],
   "source": [
    "# Lecture#87 – Decorator Practice\n",
    "\n",
    "from functools import wraps\n",
    "\n",
    "def print_function_data(function):\n",
    "    @wraps(function)\n",
    "    def wrapper(*args, **kwargs):\n",
    "        print(f\"You are calling {function.__name__} function\")\n",
    "        print(f\"{function.__doc__}\")\n",
    "        return function(*args, **kwargs)\n",
    "    return wrapper\n",
    "\n",
    "@print_function_data\n",
    "def addition(a,b):\n",
    "    '''This function takes two numbers as argument and return their sum'''\n",
    "    return a+b\n",
    "\n",
    "print(addition(4,9))\n"
   ]
  },
  {
   "cell_type": "code",
   "execution_count": 144,
   "metadata": {},
   "outputs": [
    {
     "name": "stdout",
     "output_type": "stream",
     "text": [
      "Executing function square_finder\n",
      "This function took 0.0 sec\n"
     ]
    },
    {
     "data": {
      "text/plain": [
       "[1, 512, 19683, 262144, 1953125, 10077696, 40353607, 134217728]"
      ]
     },
     "execution_count": 144,
     "metadata": {},
     "output_type": "execute_result"
    }
   ],
   "source": [
    "# Lecture#88 – Decorator Exercise\n",
    "\n",
    "from functools import wraps\n",
    "import time\n",
    "\n",
    "def calculate_time(function):\n",
    "    @wraps(function)\n",
    "    def wrapper_function(*args, **kwargs):\n",
    "        print(f\"Executing function {function.__name__}\")\n",
    "        t1 = time.time()\n",
    "        returned_val = function(*args, **kwargs)\n",
    "        t2 = time.time()\n",
    "        t = t2 - t1\n",
    "        print(f\"This function took {t} sec\")\n",
    "        return returned_val\n",
    "    return wrapper_function\n",
    "\n",
    "@calculate_time\n",
    "def square_finder(n):\n",
    "    return [i**9 for i in range(1,n+1)]\n",
    "\n",
    "square_finder(8)\n"
   ]
  },
  {
   "cell_type": "code",
   "execution_count": 146,
   "metadata": {},
   "outputs": [
    {
     "name": "stdout",
     "output_type": "stream",
     "text": [
      "28\n"
     ]
    }
   ],
   "source": [
    "# Lecture#89 – Decorator Practice\n",
    "\n",
    "from functools import wraps\n",
    "def only_int_allow(function):\n",
    "    @wraps(function)\n",
    "    def wrapper(*args, **kwargs):\n",
    "\n",
    "        # method 1\n",
    "        data_types = []\n",
    "        for arg in args:\n",
    "            data_types.append(type(arg)==int)\n",
    "        if all(data_types):\n",
    "            return function(*args, **kwargs)\n",
    "        else:\n",
    "            print(\"Invalid arguments\")\n",
    "    return wrapper\n",
    "\n",
    "        # method 2\n",
    "        # if all([type(arg) == int for arg in args]):\n",
    "\n",
    "                #     return function(*arg, **kwargs)\n",
    "        # print(\"Invalid argument\")\n",
    "\n",
    "@only_int_allow\n",
    "def add_all(*args):\n",
    "    total = 0\n",
    "    for i in args:\n",
    "        total += i\n",
    "    return total\n",
    "\n",
    "print(add_all(1,2,3,4,5,6,7))\n"
   ]
  },
  {
   "cell_type": "code",
   "execution_count": 147,
   "metadata": {},
   "outputs": [
    {
     "name": "stdout",
     "output_type": "stream",
     "text": [
      " awinash goswmai\n"
     ]
    }
   ],
   "source": [
    "# Lecture#89 – Decorator with arguments\n",
    "\n",
    "from functools import wraps\n",
    "def only_data_type_allow(data_type):\n",
    "    def decorator(function):\n",
    "        @wraps(function)\n",
    "        def wrapper(*args, **kwargs):\n",
    "            if all([type(arg) == data_type for arg in args]):\n",
    "                return function(*args, **kwargs)\n",
    "            print(\"Invalid argument\") \n",
    "        return wrapper\n",
    "    return decorator\n",
    "\n",
    "only_data_type_allow(str)\n",
    "def string_join(*args):\n",
    "    string = ''\n",
    "    for i in args:\n",
    "        string = string + \" \" + i\n",
    "    return string\n",
    "\n",
    "print(string_join(\"awinash\", \"goswmai\"))\n"
   ]
  },
  {
   "cell_type": "code",
   "execution_count": 149,
   "metadata": {},
   "outputs": [
    {
     "name": "stdout",
     "output_type": "stream",
     "text": [
      "1\n",
      "2\n",
      "3\n",
      "4\n",
      "5\n",
      "6\n",
      "7\n",
      "8\n",
      "9\n",
      "10\n"
     ]
    }
   ],
   "source": [
    "# Lecture#90 – Generator Example\n",
    "# create your first generator with generator function \n",
    "\n",
    "def nums(n):\n",
    "    for i in range(1, n+1):\n",
    "        yield i\n",
    "\n",
    "numbers = nums(10)\n",
    "\n",
    "for i in numbers:\n",
    "    print(i)\n"
   ]
  },
  {
   "cell_type": "code",
   "execution_count": 150,
   "metadata": {},
   "outputs": [
    {
     "name": "stdout",
     "output_type": "stream",
     "text": [
      "<generator object <genexpr> at 0x000001D8DC9225C8>\n",
      "1\n",
      "4\n",
      "9\n",
      "16\n",
      "25\n",
      "36\n",
      "49\n",
      "64\n",
      "81\n",
      "100\n"
     ]
    }
   ],
   "source": [
    "# Lecture#91 – Generator Comprehension\n",
    "\n",
    "# Generator comprehension \n",
    "\n",
    "square = (i**2 for i in range(1,11))\n",
    "print(square)\n",
    "\n",
    "for i in square:\n",
    "    print(i)\n"
   ]
  },
  {
   "cell_type": "code",
   "execution_count": 151,
   "metadata": {},
   "outputs": [
    {
     "name": "stdout",
     "output_type": "stream",
     "text": [
      "init method called\n",
      "init method called\n",
      "Awinash\n",
      "Goswami_sahab\n"
     ]
    }
   ],
   "source": [
    "# Lecture#92 – OOP – Create your first class\n",
    "\n",
    "# OOP - Create your first class\n",
    "\n",
    "# WHAT IS CLASS\n",
    "# HOW TO CREATE A CLASS\n",
    "# WHAT IS INIT METHOD, constructor\n",
    "# WHAT ARE ATTRIBUTES, INSTANCE VARIABLE\n",
    "# HOW TO CREATE OUR OBJECT \n",
    "\n",
    "class Person:\n",
    "    def __init__(self, first_name, last_name, age):\n",
    "        # instance variable\n",
    "        print(\"init method called\")\n",
    "        self.first_name = first_name\n",
    "        self.last_name = last_name\n",
    "        self.age = age\n",
    "\n",
    "p1 = Person(\"Awinash\", \"Goswami\", 25)\n",
    "p2 = Person(\"Parshant\", \"Goswami_sahab\", 22)\n",
    "\n",
    "print(p1.first_name)\n",
    "print(p2.last_name)\n"
   ]
  },
  {
   "cell_type": "code",
   "execution_count": 152,
   "metadata": {},
   "outputs": [
    {
     "name": "stdout",
     "output_type": "stream",
     "text": [
      "True\n"
     ]
    }
   ],
   "source": [
    "# Lecture#93 – OOP – Instance Method\n",
    "\n",
    "# Instance Method\n",
    "\n",
    "class Person:\n",
    "    def __init__(self, first_name, last_name, age):\n",
    "        self.first_name = first_name\n",
    "        self.last_name = last_name\n",
    "        self.age = age\n",
    "\n",
    "    def full_name(self):\n",
    "        return f\"{self.first_name} {self.last_name}\"\n",
    "\n",
    "    def is_above_18(self):\n",
    "        return self.age>18\n",
    "\n",
    "p1 = Person(\"awi\", \"goswami\", 24)\n",
    "print(p1.is_above_18())\n",
    "# print(Person.is_above_18(p1)) is same as print(p1.is_above_18())\n"
   ]
  },
  {
   "cell_type": "code",
   "execution_count": 153,
   "metadata": {},
   "outputs": [
    {
     "name": "stdout",
     "output_type": "stream",
     "text": [
      "area is 50.24\n",
      "circumference is 25.12\n"
     ]
    }
   ],
   "source": [
    "# Lecture#94 – OOP – Class variable\n",
    "\n",
    "# class variable \n",
    "\n",
    "class Circle:\n",
    "    pi = 3.14\n",
    "    def __init__(self, radius):\n",
    "        self.radius = radius\n",
    "    \n",
    "    def cal_circumference(self):\n",
    "        return 2*Circle.pi*self.radius\n",
    "\n",
    "    def cal_area(self):\n",
    "        return Circle.pi*self.radius**2\n",
    "\n",
    "c1 = Circle(4)\n",
    "print(f\"area is {c1.cal_area()}\")\n",
    "print(f\"circumference is {c1.cal_circumference()}\")\n"
   ]
  },
  {
   "cell_type": "code",
   "execution_count": 155,
   "metadata": {},
   "outputs": [
    {
     "name": "stdout",
     "output_type": "stream",
     "text": [
      "You have created 2 instances of Person class\n"
     ]
    }
   ],
   "source": [
    "# Lecture#95 – OOP – Class Method\n",
    "\n",
    "class Person:\n",
    "    count_ins = 0\n",
    "    def __init__(self, first_name, last_name, age):\n",
    "        Person.count_ins += 1\n",
    "        self.first_name = first_name\n",
    "        self.last_name = last_name\n",
    "        self.age = age\n",
    "    \n",
    "    @classmethod\n",
    "    def count_instances(cls):\n",
    "        return f\"You have created {cls.count_ins} instances of {cls.__name__} class\"\n",
    "\n",
    "    def full_name(self):\n",
    "        return f\"{self.first_name} {self.last_name}\"\n",
    "\n",
    "    def is_above_18(self):\n",
    "        return self.age>18\n",
    "\n",
    "p1 = Person(\"awi\", \"goswami\", 24)\n",
    "p2 = Person(\"Parshant\", \"goswami\", 22)\n",
    "\n",
    "print(Person.count_instances()) # class method\n",
    "\n"
   ]
  },
  {
   "cell_type": "code",
   "execution_count": 156,
   "metadata": {},
   "outputs": [
    {
     "name": "stdout",
     "output_type": "stream",
     "text": [
      "You have created 2 instances of Person class\n",
      "Hello static method\n",
      "None\n"
     ]
    }
   ],
   "source": [
    "# Lecture#96 – OOP – Static Method\n",
    "\n",
    "class Person:\n",
    "    count_ins = 0\n",
    "    def __init__(self, first_name, last_name, age):\n",
    "        Person.count_ins += 1\n",
    "        self.first_name = first_name\n",
    "        self.last_name = last_name\n",
    "        self.age = age\n",
    "    \n",
    "    @classmethod\n",
    "    def count_instances(cls):\n",
    "        return f\"You have created {cls.count_ins} instances of {cls.__name__} class\"\n",
    "\n",
    "    @staticmethod\n",
    "    def hello_example():\n",
    "        print(\"Hello static method\")\n",
    "\n",
    "    def full_name(self):\n",
    "        return f\"{self.first_name} {self.last_name}\"\n",
    "\n",
    "    def is_above_18(self):\n",
    "        return self.age>18\n",
    "\n",
    "p1 = Person(\"awi\", \"goswami\", 24)\n",
    "p2 = Person(\"Parshant\", \"goswami\", 22)\n",
    "\n",
    "print(Person.count_instances()) # class method\n",
    "print(Person.hello_example())\n"
   ]
  },
  {
   "cell_type": "code",
   "execution_count": 157,
   "metadata": {},
   "outputs": [
    {
     "name": "stdout",
     "output_type": "stream",
     "text": [
      "Nokia 1100 and price is 1000\n"
     ]
    }
   ],
   "source": [
    "# Lecture#97 – OOP – property_setter_decorator \n",
    "\n",
    "class Phone:\n",
    "    # constructor\n",
    "    def __init__(self, brand, model_name, price):\n",
    "        self.brand = brand\n",
    "        self.model_name = model_name\n",
    "        self._price = max(price,0)\n",
    "     \n",
    "    @property\n",
    "    def complete_specification(self):\n",
    "        return f\"{self.brand} {self.model_name} and price is {self._price}\"\n",
    "\n",
    "    # Note: In python, first write getter then instantly setter after it\n",
    "    \n",
    "    # getter()\n",
    "    @property\n",
    "    def price(self):\n",
    "        return self._price\n",
    "\n",
    "    # setter()\n",
    "    @price.setter\n",
    "    def price(self, new_price):\n",
    "        self._price = max(new_price, 0)\n",
    "\n",
    "phone1 = Phone(\"Nokia\", '1100', 1000)\n",
    "print(phone1.complete_specification)\n"
   ]
  },
  {
   "cell_type": "code",
   "execution_count": 161,
   "metadata": {},
   "outputs": [
    {
     "ename": "AttributeError",
     "evalue": "'Phone' object has no attribute 'full_name'",
     "output_type": "error",
     "traceback": [
      "\u001b[1;31m---------------------------------------------------------------------------\u001b[0m",
      "\u001b[1;31mAttributeError\u001b[0m                            Traceback (most recent call last)",
      "\u001b[1;32m<ipython-input-161-43141cc4176a>\u001b[0m in \u001b[0;36m<module>\u001b[1;34m()\u001b[0m\n\u001b[0;32m     26\u001b[0m \u001b[0mphone\u001b[0m \u001b[1;33m=\u001b[0m \u001b[0mPhone\u001b[0m\u001b[1;33m(\u001b[0m\u001b[1;34m\"Nokia\"\u001b[0m\u001b[1;33m,\u001b[0m \u001b[1;34m'1100'\u001b[0m\u001b[1;33m,\u001b[0m \u001b[1;36m1000\u001b[0m\u001b[1;33m)\u001b[0m\u001b[1;33m\u001b[0m\u001b[0m\n\u001b[0;32m     27\u001b[0m \u001b[0msmartphone\u001b[0m \u001b[1;33m=\u001b[0m \u001b[0mSmartPhone\u001b[0m\u001b[1;33m(\u001b[0m\u001b[1;34m'Samsung'\u001b[0m\u001b[1;33m,\u001b[0m \u001b[1;34m'A7'\u001b[0m\u001b[1;33m,\u001b[0m \u001b[1;36m30000\u001b[0m\u001b[1;33m,\u001b[0m \u001b[1;34m'3GB'\u001b[0m\u001b[1;33m,\u001b[0m \u001b[1;34m'32GB'\u001b[0m\u001b[1;33m,\u001b[0m \u001b[1;34m'13MP'\u001b[0m\u001b[1;33m)\u001b[0m\u001b[1;33m\u001b[0m\u001b[0m\n\u001b[1;32m---> 28\u001b[1;33m \u001b[0mprint\u001b[0m\u001b[1;33m(\u001b[0m\u001b[0mphone\u001b[0m\u001b[1;33m.\u001b[0m\u001b[0mfull_name\u001b[0m\u001b[1;33m(\u001b[0m\u001b[1;33m)\u001b[0m\u001b[1;33m)\u001b[0m\u001b[1;33m\u001b[0m\u001b[0m\n\u001b[0m\u001b[0;32m     29\u001b[0m \u001b[0mprint\u001b[0m\u001b[1;33m(\u001b[0m\u001b[0msmartphone\u001b[0m\u001b[1;33m.\u001b[0m\u001b[0mfull_name\u001b[0m\u001b[1;33m(\u001b[0m\u001b[1;33m)\u001b[0m \u001b[1;33m+\u001b[0m \u001b[1;34mf\"and price is {smartphone._price}\"\u001b[0m\u001b[1;33m)\u001b[0m\u001b[1;33m\u001b[0m\u001b[0m\n\u001b[0;32m     30\u001b[0m \u001b[1;33m\u001b[0m\u001b[0m\n",
      "\u001b[1;31mAttributeError\u001b[0m: 'Phone' object has no attribute 'full_name'"
     ]
    }
   ],
   "source": [
    "# Lecture#98 – OOP – Inheritance Intro \n",
    "\n",
    "# inheritance intro \n",
    "\n",
    "class Phone:                    #Base/Parent Class\n",
    "    # constructor\n",
    "    def __init__(self, brand, model_name, price):\n",
    "        self.brand = brand\n",
    "        self.model_name = model_name\n",
    "        self._price = max(price,0)\n",
    "        \n",
    "        def full_name(self):\n",
    "            return f\"{self.brand} {self.model_name}\"\n",
    "        \n",
    "        def make_a_call(self, number):\n",
    "            return f\"calling {number}...\"\n",
    "\n",
    "class SmartPhone(Phone):        #Derived/Child class    \n",
    "    def __init__(self, brand, model_name, price, ram, internal_memory, rear_camera):\n",
    "        super().__init__(brand, model_name, price)\n",
    "        self.ram = ram\n",
    "        self.internal_memory = internal_memory\n",
    "        self.rear_camera = rear_camera\n",
    "\n",
    "  \n",
    "phone = Phone(\"Nokia\", '1100', 1000)\n",
    "smartphone = SmartPhone('Samsung', 'A7', 30000, '3GB', '32GB', '13MP')\n",
    "print(phone.full_name())\n",
    "print(smartphone.full_name() + f\"and price is {smartphone._price}\")\n",
    "\n"
   ]
  },
  {
   "cell_type": "code",
   "execution_count": 163,
   "metadata": {},
   "outputs": [
    {
     "name": "stdout",
     "output_type": "stream",
     "text": [
      "OnePlus 5 and cost  is 50000\n",
      "True\n",
      "True\n"
     ]
    }
   ],
   "source": [
    "# Lecture#99 – OOP – Multilevel Inheritance, MRO, method overriding, isinstance(), issubclass() \n",
    "\n",
    "\n",
    "# can we derive more than one class from base class?\n",
    "# multilevel inheritance\n",
    "# method resolution order MRO\n",
    "# method overriding\n",
    "# isinstance(), issubclass()\n",
    "\n",
    "\n",
    "class Phone: #base/parent Class\n",
    "    # constructor\n",
    "    def __init__(self, brand, model_name, price):\n",
    "        self.brand = brand\n",
    "        self.model_name = model_name\n",
    "        self._price = max(price,0)\n",
    "\n",
    "    def full_name(self):\n",
    "        return f\"{self.brand} {self.model_name}\"\n",
    "\n",
    "        def make_a_call(self, number):\n",
    "            return f\"calling {number}...\"\n",
    "\n",
    "class SmartPhone(Phone): #derived/child class    \n",
    "    def __init__(self, brand, model_name, price, ram, internal_memory, rear_camera):\n",
    "        super().__init__(brand, model_name, price)\n",
    "        self.ram = ram\n",
    "        self.internal_memory = internal_memory\n",
    "        self.rear_camera = rear_camera\n",
    "\n",
    "    def full_name(self):\n",
    "        return f\"{self.brand} {self.model_name} and cost  is {self._price}\"\n",
    "\n",
    "class FlagshipPhone(SmartPhone):\n",
    "    def __init__(self, brand, model_name, price, ram, internal_memory, rear_camera, front_camera):\n",
    "        super().__init__(brand, model_name, price, ram, internal_memory, rear_camera)\n",
    "        self.front_camera = front_camera\n",
    "\n",
    "\n",
    "flagshipPhone = FlagshipPhone('OnePlus', '5', 50000, '6GB', '64GB', '13MP', '16MP')\n",
    "print(flagshipPhone.full_name())\n",
    "\n",
    "#Method Resolution Order - MRO\n",
    "# print(help(flagshipPhone))      \n",
    "\n",
    "# isinstance()\n",
    "print(isinstance(flagshipPhone, SmartPhone))        \n",
    "\n",
    "# issubclass()\n",
    "print(issubclass(SmartPhone, Phone))\n"
   ]
  },
  {
   "cell_type": "code",
   "execution_count": 165,
   "metadata": {},
   "outputs": [
    {
     "name": "stdout",
     "output_type": "stream",
     "text": [
      "hello from class A\n"
     ]
    }
   ],
   "source": [
    "# Lecture#100 – OOP – Multiple Inheritance \n",
    "# multiple inheritance \n",
    "class A:\n",
    "\n",
    "    def class_a_method(self):\n",
    "        return 'I am just a class A method'\n",
    "\n",
    "    def hello(self):\n",
    "        return 'hello from class A'\n",
    "\n",
    "class B:\n",
    "\n",
    "    def class_b_method(self):\n",
    "        return 'I am just a class B method'\n",
    "\n",
    "    def hello(self):\n",
    "        return 'hello from class B'\n",
    "\n",
    "class C(A,B):\n",
    "    pass\n",
    "\n",
    "instance_c = C()\n",
    "\n",
    "# Class A hello() method will be printed because see the class C inheritance order (A,B)\n",
    "print(instance_c.hello())\n",
    "\n"
   ]
  },
  {
   "cell_type": "code",
   "execution_count": 167,
   "metadata": {},
   "outputs": [
    {
     "name": "stdout",
     "output_type": "stream",
     "text": [
      "nokia 1100 and price is 1000\n",
      "Phone('nokia', '1100', 1000)\n",
      "2200\n"
     ]
    }
   ],
   "source": [
    "# Lecture#101 – OOP – Magic/Dunder methods, operator overloading, polymorphism \n",
    "# special magic/methods dunder methods\n",
    "# operator overloading\n",
    "# polymorphism\n",
    "\n",
    "class Phone:\n",
    "    def __init__(self, brand, model, price):\n",
    "        self.brand = brand\n",
    "        self.model = model\n",
    "        self.price = price\n",
    "\n",
    "    def phone_name(self):\n",
    "        return f\"{self.brand} {self.brand}\"\n",
    "    \n",
    "    # for common user __str__ dunder method\n",
    "    def __str__(self):\n",
    "        return f\"{self.brand} {self.model} and price is {self.price}\"\n",
    "    \n",
    "    # for python developer __repr__ dunder method\n",
    "    def __repr__(self):\n",
    "        return f\"Phone(\\'{self.brand}\\', \\'{self.model}\\', {self.price})\"\n",
    "\n",
    "    # operator overloading example\n",
    "    def __add__(self, other):\n",
    "        return self.price + other.price\n",
    "\n",
    "phone1 = Phone(\"nokia\", \"1100\", 1000)\n",
    "phone2 = Phone(\"nokia\", \"1600\", 1200)\n",
    "\n",
    "print(phone1.__str__())\n",
    "print(phone1.__repr__())\n",
    "print(phone1 + phone2)\n"
   ]
  },
  {
   "cell_type": "code",
   "execution_count": 168,
   "metadata": {},
   "outputs": [
    {
     "ename": "TypeError",
     "evalue": "Oops! You have entered wrong input. Please enter integer only",
     "output_type": "error",
     "traceback": [
      "\u001b[1;31m---------------------------------------------------------------------------\u001b[0m",
      "\u001b[1;31mTypeError\u001b[0m                                 Traceback (most recent call last)",
      "\u001b[1;32m<ipython-input-168-72dbfe259755>\u001b[0m in \u001b[0;36m<module>\u001b[1;34m()\u001b[0m\n\u001b[0;32m      6\u001b[0m         \u001b[1;32mraise\u001b[0m \u001b[0mTypeError\u001b[0m\u001b[1;33m(\u001b[0m\u001b[1;34m'Oops! You have entered wrong input. Please enter integer only'\u001b[0m\u001b[1;33m)\u001b[0m\u001b[1;33m\u001b[0m\u001b[0m\n\u001b[0;32m      7\u001b[0m \u001b[1;33m\u001b[0m\u001b[0m\n\u001b[1;32m----> 8\u001b[1;33m \u001b[0mprint\u001b[0m\u001b[1;33m(\u001b[0m\u001b[0madd\u001b[0m\u001b[1;33m(\u001b[0m\u001b[1;34m'3'\u001b[0m\u001b[1;33m,\u001b[0m \u001b[1;34m'6'\u001b[0m\u001b[1;33m)\u001b[0m\u001b[1;33m)\u001b[0m\u001b[1;33m\u001b[0m\u001b[0m\n\u001b[0m",
      "\u001b[1;32m<ipython-input-168-72dbfe259755>\u001b[0m in \u001b[0;36madd\u001b[1;34m(a, b)\u001b[0m\n\u001b[0;32m      4\u001b[0m         \u001b[1;32mif\u001b[0m \u001b[1;33m(\u001b[0m\u001b[0mtype\u001b[0m\u001b[1;33m(\u001b[0m\u001b[0ma\u001b[0m\u001b[1;33m)\u001b[0m \u001b[1;32mis\u001b[0m \u001b[0mint\u001b[0m\u001b[1;33m)\u001b[0m \u001b[1;32mand\u001b[0m \u001b[1;33m(\u001b[0m\u001b[0mtype\u001b[0m\u001b[1;33m(\u001b[0m\u001b[0mb\u001b[0m\u001b[1;33m)\u001b[0m \u001b[1;32mis\u001b[0m \u001b[0mint\u001b[0m\u001b[1;33m)\u001b[0m\u001b[1;33m:\u001b[0m\u001b[1;33m\u001b[0m\u001b[0m\n\u001b[0;32m      5\u001b[0m                 \u001b[1;32mreturn\u001b[0m \u001b[0ma\u001b[0m\u001b[1;33m+\u001b[0m\u001b[0mb\u001b[0m\u001b[1;33m\u001b[0m\u001b[0m\n\u001b[1;32m----> 6\u001b[1;33m         \u001b[1;32mraise\u001b[0m \u001b[0mTypeError\u001b[0m\u001b[1;33m(\u001b[0m\u001b[1;34m'Oops! You have entered wrong input. Please enter integer only'\u001b[0m\u001b[1;33m)\u001b[0m\u001b[1;33m\u001b[0m\u001b[0m\n\u001b[0m\u001b[0;32m      7\u001b[0m \u001b[1;33m\u001b[0m\u001b[0m\n\u001b[0;32m      8\u001b[0m \u001b[0mprint\u001b[0m\u001b[1;33m(\u001b[0m\u001b[0madd\u001b[0m\u001b[1;33m(\u001b[0m\u001b[1;34m'3'\u001b[0m\u001b[1;33m,\u001b[0m \u001b[1;34m'6'\u001b[0m\u001b[1;33m)\u001b[0m\u001b[1;33m)\u001b[0m\u001b[1;33m\u001b[0m\u001b[0m\n",
      "\u001b[1;31mTypeError\u001b[0m: Oops! You have entered wrong input. Please enter integer only"
     ]
    }
   ],
   "source": [
    "# Lecture#102 – Raise errors\n",
    "\n",
    "def add(a,b):\n",
    "        if (type(a) is int) and (type(b) is int):\n",
    "                return a+b\n",
    "        raise TypeError('Oops! You have entered wrong input. Please enter integer only')\n",
    "\n",
    "print(add('3', '6'))\n"
   ]
  },
  {
   "cell_type": "code",
   "execution_count": 170,
   "metadata": {},
   "outputs": [
    {
     "name": "stdout",
     "output_type": "stream",
     "text": [
      "bhow bhow\n",
      "meow meow\n"
     ]
    }
   ],
   "source": [
    "# Lecture#103 – Raise errors Example1 \n",
    "# raise errors example 1\n",
    "# NotImplementError\n",
    "# abstract method\n",
    "\n",
    "class Animal:\n",
    "        def __init__(self, name):\n",
    "                self.name = name\n",
    "\n",
    "        # abstact method example. A method in which we perform nothing but only delivers a message. \n",
    "        # In python, there is no concept of abstact method, it has come from Java. \n",
    "        def sound(self):\n",
    "                raise NotImplementedError('You have to define this method in subclass')\n",
    "\n",
    "class Dog(Animal):\n",
    "        def __init__(self, name, breed):\n",
    "                super().__init__(name)\n",
    "                self.breed = breed\n",
    "        \n",
    "        def sound(self):\n",
    "                return 'bhow bhow'\n",
    "\n",
    "class Cat(Animal):\n",
    "    def __init__(self, name, breed):\n",
    "        super().__init__(name)\n",
    "        self.breed = breed\n",
    "        \n",
    "    def sound(self):\n",
    "        return 'meow meow'\n",
    "\n",
    "doggy = Dog('sammy', 'german_shepherd')\n",
    "print(doggy.sound())\n",
    "\n",
    "billi = Cat('yonna', 'preety_beautiful')\n",
    "print(billi.sound())\n",
    "\n"
   ]
  },
  {
   "cell_type": "code",
   "execution_count": 171,
   "metadata": {},
   "outputs": [
    {
     "name": "stdout",
     "output_type": "stream",
     "text": [
      "one plus 6\n"
     ]
    }
   ],
   "source": [
    "# Lecture#104 – Raise errors Example2 \n",
    "\n",
    "class Mobile:\n",
    "        def __init__(self, name):\n",
    "                self.name = name\n",
    "\n",
    "class MobileStore:\n",
    "        def __init__(self):\n",
    "                self.mobiles = []\n",
    "        \n",
    "        def add_mobile(self, new_mobile):\n",
    "                if isinstance(new_mobile, Mobile):\n",
    "                        self.mobiles.append(new_mobile)\n",
    "                else:\n",
    "                        raise TypeError('new mobile should be object of Mobile class')\n",
    "\n",
    "samsung = 'samsung galaxy s8'\n",
    "\n",
    "onePlus = Mobile('one plus 6')\n",
    "moboStore = MobileStore()\n",
    "\n",
    "# moboStore.add_mobile(samsung)         #will raise error because samsung is not object of Mobile class\n",
    "moboStore.add_mobile(onePlus)\n",
    "\n",
    "mobo_phones = moboStore.mobiles\n",
    "print(mobo_phones[0].name)\n"
   ]
  },
  {
   "cell_type": "code",
   "execution_count": 173,
   "metadata": {},
   "outputs": [
    {
     "name": "stdout",
     "output_type": "stream",
     "text": [
      "Enter your age: awi\n",
      "Please enter integer value\n",
      "Enter your age: 19\n",
      "you can play this game\n"
     ]
    }
   ],
   "source": [
    "# Lecture#105 – Raise errors Example2\n",
    "# Exception handling \n",
    "\n",
    "# Exception are error that occur execution time\n",
    "\n",
    "while True:\n",
    "    try:\n",
    "        age = int(input(\"Enter your age: \"))\n",
    "        break\n",
    "    except ValueError:\n",
    "        print('Please enter integer value')\n",
    "    except:\n",
    "        print('unexpected error...')\n",
    "    \n",
    "if age < 18:\n",
    "    print('you can\\'t play this game')\n",
    "else:\n",
    "    print('you can play this game')\n"
   ]
  },
  {
   "cell_type": "code",
   "execution_count": 174,
   "metadata": {},
   "outputs": [
    {
     "name": "stdout",
     "output_type": "stream",
     "text": [
      "enter any integer value: 151\n",
      "you entered 151 integer\n",
      "Finally blocks always execute whether error occur or not\n"
     ]
    }
   ],
   "source": [
    "# Lecture#106 – Else finally with try except\n",
    "\n",
    "# else and finally clause in exception handling\n",
    "\n",
    "while True:\n",
    "    try:\n",
    "        number = int(input('enter any integer value: '))\n",
    "    except ValueError:\n",
    "        print('Please enter integer value')\n",
    "    except:\n",
    "        print('unexpected error!')\n",
    "    else:\n",
    "        print(f'you entered {number} integer')\n",
    "        break\n",
    "    finally:\n",
    "        print('Finally blocks always execute whether error occur or not')\n"
   ]
  },
  {
   "cell_type": "code",
   "execution_count": 178,
   "metadata": {},
   "outputs": [
    {
     "name": "stdout",
     "output_type": "stream",
     "text": [
      "Enter your name: awinash_goswami\n",
      " hello awinash_goswami\n"
     ]
    }
   ],
   "source": [
    "# Lecture#107 – Custom Exception \n",
    "# python custom exceptions\n",
    "# Q - Why custom exceptions?\n",
    "# A - To increase the readibility of code.\n",
    "\n",
    "class NameTooShortError(ValueError):\n",
    "    pass\n",
    "\n",
    "def validate(name):\n",
    "    if len(name) < 8:\n",
    "        raise NameTooShortError('Name is too short. Please enter min 8 letter name')\n",
    "\n",
    "username = input('Enter your name: ')\n",
    "validate(username)\n",
    "print(f' hello {username}')\n"
   ]
  },
  {
   "cell_type": "code",
   "execution_count": 179,
   "metadata": {},
   "outputs": [
    {
     "name": "stdout",
     "output_type": "stream",
     "text": [
      "division by zero\n",
      "None\n"
     ]
    }
   ],
   "source": [
    "# Lecture#108 – Exercise \n",
    "\n",
    "def divide(a,b):\n",
    "    try:\n",
    "        return a/b\n",
    "    except ZeroDivisionError as err:\n",
    "        print(err)\n",
    "    except TypeError as err:\n",
    "        print(err)\n",
    "\n",
    "print(divide(10,0))\n"
   ]
  },
  {
   "cell_type": "code",
   "execution_count": 194,
   "metadata": {},
   "outputs": [
    {
     "name": "stdout",
     "output_type": "stream",
     "text": [
      "\n",
      "\n",
      "Lorem Ipsum is simply dummy text of the printing and typesetting industry. Lorem Ipsum has been the industry's standard dummy text ever since the 1500s, when an unknown printer took a galley of type and scrambled it to make a type specimen book. It has survived not only five centuries, but also the leap into electronic typesetting, remaining essentially unchanged. It was popularised in the 1960s with the release of Letraset sheets containing Lorem Ipsum passages, and more recently with desktop publishing software like Aldus PageMaker including versions of Lorem Ipsum.\n",
      "\n",
      "\n",
      "4\n",
      "\n",
      "\n",
      "m Ipsum is simply dummy text of the printing and typesetting industry. Lorem Ipsum has been the industry's standard dummy text ever since the 1500s, when an unknown printer took a galley of type and scrambled it to make a type specimen book. It has survived not only five centuries, but also the leap into electronic typesetting, remaining essentially unchanged. It was popularised in the 1960s with the release of Letraset sheets containing Lorem Ipsum passages, and more recently with desktop publishing software like Aldus PageMaker including versions of Lorem Ipsum.\n",
      "\n",
      "\n",
      " cursor position: 574\n",
      "\n",
      "\n",
      "Lorem Ipsum is simply dummy text of the printing and typesetting industry. Lorem Ipsum has been the industry's standard dummy text ever since the 1500s, when an unknown printer took a galley of type and scrambled it to make a type specimen book. It has survived not only five centuries, but also the leap into electronic typesetting, remaining essentially unchanged. It was popularised in the 1960s with the release of Letraset sheets containing Lorem Ipsum passages, and more recently with desktop publishing software like Aldus PageMaker including versions of Lorem Ipsum.\n",
      "\n",
      "\n",
      "[\"Lorem Ipsum is simply dummy text of the printing and typesetting industry. Lorem Ipsum has been the industry's standard dummy text ever since the 1500s, when an unknown printer took a galley of type and scrambled it to make a type specimen book. It has survived not only five centuries, but also the leap into electronic typesetting, remaining essentially unchanged. It was popularised in the 1960s with the release of Letraset sheets containing Lorem Ipsum passages, and more recently with desktop publishing software like Aldus PageMaker including versions of Lorem Ipsum.\"]\n",
      "\n",
      "\n",
      "False\n"
     ]
    }
   ],
   "source": [
    "# Lecture#109 – Read Text Files\n",
    "# readfile\n",
    "# open function     - to open file\n",
    "# read method       - to read file\n",
    "# seek method       - to change cursor position \n",
    "# tell method       - to find cursor current position \n",
    "# readline method   - to read single line \n",
    "# readlines method  - to put each line in list \n",
    "# close method      - to close file\n",
    "\n",
    "# open function \n",
    "f = open('files/file.txt')\n",
    "\n",
    "# read method\n",
    "print('\\n')\n",
    "print(f.read())\n",
    "\n",
    "# seek method\n",
    "print('\\n')\n",
    "print(f.seek(4))\n",
    "print('\\n')\n",
    "print(f.read())\n",
    "\n",
    "# tell method\n",
    "print('\\n')\n",
    "print(f\" cursor position: {f.tell()}\")\n",
    "\n",
    "# readline method\n",
    "f.seek(0)\n",
    "print('\\n')\n",
    "print(f.readline())\n",
    "\n",
    "# readline method\n",
    "f.seek(0)\n",
    "print('\\n')\n",
    "print(f.readlines())\n",
    "\n",
    "print('\\n')\n",
    "print(f.closed) \n",
    "f.close()\n"
   ]
  },
  {
   "cell_type": "code",
   "execution_count": 195,
   "metadata": {},
   "outputs": [
    {
     "name": "stdout",
     "output_type": "stream",
     "text": [
      "Lorem Ipsum is simply dummy text of the printing and typesetting industry. Lorem Ipsum has been the industry's standard dummy text ever since the 1500s, when an unknown printer took a galley of type and scrambled it to make a type specimen book. It has survived not only five centuries, but also the leap into electronic typesetting, remaining essentially unchanged. It was popularised in the 1960s with the release of Letraset sheets containing Lorem Ipsum passages, and more recently with desktop publishing software like Aldus PageMaker including versions of Lorem Ipsum.\n"
     ]
    }
   ],
   "source": [
    "# Lecture#110 – With blocks\n",
    "# with block \n",
    "# use: it will read file, close by itself and correct damaged file \n",
    "\n",
    "with open(\"files/file.txt\") as f:\n",
    "    data = f.read()\n",
    "    print(data)\n"
   ]
  },
  {
   "cell_type": "code",
   "execution_count": null,
   "metadata": {
    "collapsed": true
   },
   "outputs": [],
   "source": [
    "# Lecture#111 – Writing into file \n",
    "\n",
    "# Write in file\n",
    "# w  - write method \n",
    "# r  - read method \n",
    "# a  - append method\n",
    "# r+ - for both read and write \n",
    "# Note: mode 'a', 'r+' will create file there is no file existed with name \n",
    "# whereas mode 'w' does not create file\n",
    "\n",
    "# writing in existing file deleting already existed data  \n",
    "# with open(\"file.txt\", 'w') as f:\n",
    "    # f.write(\"\\n\\nNew line added\")\n",
    "\n",
    "# writing in existing file not deleting already existed data  \n",
    "# with open(\"file.txt\", 'a') as f:\n",
    "#     f.write(\"\\n\\nNew line added\")\n",
    "\n",
    "# reading and writing in existing file \n",
    "# with open(\"file.txt\", 'r+') as f:\n",
    "#     f.seek(len(f.read()))\n",
    "#     f.write(\"\\nNew line added\")\n"
   ]
  },
  {
   "cell_type": "code",
   "execution_count": 185,
   "metadata": {
    "collapsed": true
   },
   "outputs": [],
   "source": [
    "# Lecture#112 – Reading and writing together \n",
    "# reading one file and pasting its data into other\n",
    "\n",
    "with open(\"files/file1.txt\", 'r') as rf:\n",
    "    with open(\"files/file2.txt\", 'w') as wf:\n",
    "        wf.write(rf.read())\n"
   ]
  },
  {
   "cell_type": "code",
   "execution_count": 193,
   "metadata": {},
   "outputs": [
    {
     "name": "stdout",
     "output_type": "stream",
     "text": [
      "['Bulbasaur', 'Grass']\n",
      "['Ivysaur', 'Grass']\n",
      "['Venusaur', 'Grass']\n",
      "['Charmander', 'Fire']\n",
      "['Charmeleon', 'Fire']\n",
      "['Charizard', 'Fire']\n",
      "['Squirtle', 'Water']\n",
      "['Wartortle', 'Water']\n",
      "['Blastoise', 'Water']\n",
      "['Caterpie', 'Bug']\n",
      "['Metapod', 'Bug']\n",
      "['Butterfree', 'Bug']\n",
      "['Weedle', 'Bug']\n",
      "['Kakuna', 'Bug']\n",
      "['Beedrill', 'Bug']\n",
      "['Pidgey', 'Normal']\n",
      "['Pidgeotto', 'Normal']\n",
      "['Pidgeot', 'Normal']\n",
      "['Rattata', 'Normal']\n",
      "['Raticate', 'Normal']\n",
      "['Spearow', 'Normal']\n",
      "['Fearow', 'Normal']\n",
      "['Ekans', 'Poison']\n",
      "['Arbok', 'Poison']\n",
      "['Pikachu', 'Electric']\n",
      "['Raichu', 'Electric']\n",
      "['Sandshrew', 'Ground']\n",
      "['Sandslash', 'Ground']\n",
      "['Nidoran', 'Poison']\n",
      "['Nidorina', 'Poison']\n",
      "['Nidoqueen', 'Poison']\n",
      "['Nidoranâ™‚', 'Poison']\n",
      "['Nidorino', 'Poison']\n",
      "['Nidoking', 'Poison']\n",
      "['Clefairy', 'Fairy']\n",
      "['Clefable', 'Fairy']\n",
      "['Vulpix', 'Fire']\n",
      "['Ninetales', 'Fire']\n",
      "['Jigglypuff', 'Normal']\n",
      "['Wigglytuff', 'Normal']\n",
      "['Zubat', 'Poison']\n",
      "['Golbat', 'Poison']\n",
      "['Oddish', 'Grass']\n",
      "['Gloom', 'Grass']\n",
      "['Vileplume', 'Grass']\n",
      "['Paras', 'Bug']\n",
      "['Parasect', 'Bug']\n",
      "['Venonat', 'Bug']\n",
      "['Venomoth', 'Bug']\n",
      "['Diglett', 'Ground']\n",
      "['Dugtrio', 'Ground']\n",
      "['Meowth', 'Normal']\n",
      "['Persian', 'Normal']\n",
      "['Psyduck', 'Water']\n",
      "['Golduck', 'Water']\n",
      "['Mankey', 'Fighting']\n",
      "['Primeape', 'Fighting']\n",
      "['Growlithe', 'Fire']\n",
      "['Arcanine', 'Fire']\n",
      "['Poliwag', 'Water']\n",
      "['Poliwhirl', 'Water']\n",
      "['Poliwrath', 'Water']\n",
      "['Abra', 'Psychic']\n",
      "['Kadabra', 'Psychic']\n",
      "['Alakazam', 'Psychic']\n",
      "['Machop', 'Fighting']\n",
      "['Machoke', 'Fighting']\n",
      "['Machamp', 'Fighting']\n",
      "['Bellsprout', 'Grass']\n",
      "['Weepinbell', 'Grass']\n",
      "['Victreebel', 'Grass']\n",
      "['Tentacool', 'Water']\n",
      "['Tentacruel', 'Water']\n",
      "['Geodude', 'Rock']\n",
      "['Graveler', 'Rock']\n",
      "['Golem', 'Rock']\n",
      "['Ponyta', 'Fire']\n",
      "['Rapidash', 'Fire']\n",
      "['Slowpoke', 'Water']\n",
      "['Slowbro', 'Water']\n",
      "['Magnemite', 'Electric']\n",
      "['Magneton', 'Electric']\n",
      "[\"Farfetch'd\", 'Normal']\n",
      "['Doduo', 'Normal']\n",
      "['Dodrio', 'Normal']\n",
      "['Seel', 'Water']\n",
      "['Dewgong', 'Water']\n",
      "['Grimer', 'Poison']\n",
      "['Muk', 'Poison']\n",
      "['Shellder', 'Water']\n",
      "['Cloyster', 'Water']\n",
      "['Gastly', 'Ghost']\n",
      "['Haunter', 'Ghost']\n",
      "['Gengar', 'Ghost']\n",
      "['Onix', 'Rock']\n",
      "['Drowzee', 'Psychic']\n",
      "['Hypno', 'Psychic']\n",
      "['Krabby', 'Water']\n",
      "['Kingler', 'Water']\n",
      "['Voltorb', 'Electric']\n",
      "['Electrode', 'Electric']\n",
      "['Exeggcute', 'Grass']\n",
      "['Exeggutor', 'Grass']\n",
      "['Cubone', 'Ground']\n",
      "['Marowak', 'Ground']\n",
      "['Hitmonlee', 'Fighting']\n",
      "['Hitmonchan', 'Fighting']\n",
      "['Lickitung', 'Normal']\n",
      "['Koffing', 'Poison']\n",
      "['Weezing', 'Poison']\n",
      "['Rhyhorn', 'Ground']\n",
      "['Rhydon', 'Ground']\n",
      "['Chansey', 'Normal']\n",
      "['Tangela', 'Grass']\n",
      "['Kangaskhan', 'Normal']\n",
      "['Horsea', 'Water']\n",
      "['Seadra', 'Water']\n",
      "['Goldeen', 'Water']\n",
      "['Seaking', 'Water']\n",
      "['Staryu', 'Water']\n",
      "['Starmie', 'Water']\n",
      "['Mr. Mime', 'Psychic']\n",
      "['Scyther', 'Bug']\n",
      "['Jynx', 'Ice']\n",
      "['Electabuzz', 'Electric']\n",
      "['Magmar', 'Fire']\n",
      "['Pinsir', 'Bug']\n",
      "['Tauros', 'Normal']\n",
      "['Magikarp', 'Water']\n",
      "['Gyarados', 'Water']\n",
      "['Lapras', 'Water']\n",
      "['Ditto', 'Normal']\n",
      "['Eevee', 'Normal']\n",
      "['Vaporeon', 'Water']\n",
      "['Jolteon', 'Electric']\n",
      "['Flareon', 'Fire']\n",
      "['Porygon', 'Normal']\n",
      "['Omanyte', 'Rock']\n",
      "['Omastar', 'Rock']\n",
      "['Kabuto', 'Rock']\n",
      "['Kabutops', 'Rock']\n",
      "['Aerodactyl', 'Rock']\n",
      "['Snorlax', 'Normal']\n",
      "['Articuno', 'Ice']\n",
      "['Zapdos', 'Electric']\n",
      "['Moltres', 'Fire']\n",
      "['Dratini', 'Dragon']\n",
      "['Dragonair', 'Dragon']\n",
      "['Dragonite', 'Dragon']\n",
      "['Mewtwo', 'Psychic']\n",
      "['Mew', 'Psychic']\n",
      "['Chikorita', 'Grass']\n",
      "['Bayleef', 'Grass']\n",
      "['Meganium', 'Grass']\n",
      "['Cyndaquil', 'Fire']\n",
      "['Quilava', 'Fire']\n",
      "['Typhlosion', 'Fire']\n",
      "['Totodile', 'Water']\n",
      "['Croconaw', 'Water']\n",
      "['Feraligatr', 'Water']\n",
      "['Sentret', 'Normal']\n",
      "['Furret', 'Normal']\n",
      "['Hoothoot', 'Normal']\n",
      "['Noctowl', 'Normal']\n",
      "['Ledyba', 'Bug']\n",
      "['Ledian', 'Bug']\n",
      "['Spinarak', 'Bug']\n",
      "['Ariados', 'Bug']\n",
      "['Crobat', 'Poison']\n",
      "['Chinchou', 'Water']\n",
      "['Lanturn', 'Water']\n",
      "['Pichu', 'Electric']\n",
      "['Cleffa', 'Fairy']\n",
      "['Igglybuff', 'Normal']\n",
      "['Togepi', 'Fairy']\n",
      "['Togetic', 'Fairy']\n",
      "['Natu', 'Psychic']\n",
      "['Xatu', 'Psychic']\n",
      "['Mareep', 'Electric']\n",
      "['Flaaffy', 'Electric']\n",
      "['Ampharos', 'Electric']\n",
      "['Bellossom', 'Grass']\n",
      "['Marill', 'Water']\n",
      "['Azumarill', 'Water']\n",
      "['Sudowoodo', 'Rock']\n",
      "['Politoed', 'Water']\n",
      "['Hoppip', 'Grass']\n",
      "['Skiploom', 'Grass']\n",
      "['Jumpluff', 'Grass']\n",
      "['Aipom', 'Normal']\n",
      "['Sunkern', 'Grass']\n",
      "['Sunflora', 'Grass']\n",
      "['Yanma', 'Bug']\n",
      "['Wooper', 'Water']\n",
      "['Quagsire', 'Water']\n",
      "['Espeon', 'Psychic']\n",
      "['Umbreon', 'Dark']\n",
      "['Murkrow', 'Dark']\n",
      "['Slowking', 'Water']\n",
      "['Misdreavus', 'Ghost']\n",
      "['Unown', 'Psychic']\n",
      "['Wobbuffet', 'Psychic']\n",
      "['Girafarig', 'Normal']\n",
      "['Pineco', 'Bug']\n",
      "['Forretress', 'Bug']\n",
      "['Dunsparce', 'Normal']\n",
      "['Gligar', 'Ground']\n",
      "['Steelix', 'Steel']\n",
      "['Snubbull', 'Fairy']\n",
      "['Granbull', 'Fairy']\n",
      "['Qwilfish', 'Water']\n",
      "['Scizor', 'Bug']\n",
      "['Shuckle', 'Bug']\n",
      "['Heracross', 'Bug']\n",
      "['Sneasel', 'Dark']\n",
      "['Teddiursa', 'Normal']\n",
      "['Ursaring', 'Normal']\n",
      "['Slugma', 'Fire']\n",
      "['Magcargo', 'Fire']\n",
      "['Swinub', 'Ice']\n",
      "['Piloswine', 'Ice']\n",
      "['Corsola', 'Water']\n",
      "['Remoraid', 'Water']\n",
      "['Octillery', 'Water']\n",
      "['Delibird', 'Ice']\n",
      "['Mantine', 'Water']\n",
      "['Skarmory', 'Steel']\n",
      "['Houndour', 'Dark']\n",
      "['Houndoom', 'Dark']\n",
      "['Kingdra', 'Water']\n",
      "['Phanpy', 'Ground']\n",
      "['Donphan', 'Ground']\n",
      "['Porygon2', 'Normal']\n",
      "['Stantler', 'Normal']\n",
      "['Smeargle', 'Normal']\n",
      "['Tyrogue', 'Fighting']\n",
      "['Hitmontop', 'Fighting']\n",
      "['Smoochum', 'Ice']\n",
      "['Elekid', 'Electric']\n",
      "['Magby', 'Fire']\n",
      "['Miltank', 'Normal']\n",
      "['Blissey', 'Normal']\n",
      "['Raikou', 'Electric']\n",
      "['Entei', 'Fire']\n",
      "['Suicune', 'Water']\n",
      "['Larvitar', 'Rock']\n",
      "['Pupitar', 'Rock']\n",
      "['Tyranitar', 'Rock']\n",
      "['Lugia', 'Psychic']\n",
      "['Ho-oh', 'Fire']\n",
      "['Celebi', 'Psychic']\n",
      "['Treecko', 'Grass']\n",
      "['Grovyle', 'Grass']\n",
      "['Sceptile', 'Grass']\n",
      "['Torchic', 'Fire']\n",
      "['Combusken', 'Fire']\n",
      "['Blaziken', 'Fire']\n",
      "['Mudkip', 'Water']\n",
      "['Marshtomp', 'Water']\n",
      "['Swampert', 'Water']\n",
      "['Poochyena', 'Dark']\n",
      "['Mightyena', 'Dark']\n",
      "['Zigzagoon', 'Normal']\n",
      "['Linoone', 'Normal']\n",
      "['Wurmple', 'Bug']\n",
      "['Silcoon', 'Bug']\n",
      "['Beautifly', 'Bug']\n",
      "['Cascoon', 'Bug']\n",
      "['Dustox', 'Bug']\n",
      "['Lotad', 'Water']\n",
      "['Lombre', 'Water']\n",
      "['Ludicolo', 'Water']\n",
      "['Seedot', 'Grass']\n",
      "['Nuzleaf', 'Grass']\n",
      "['Shiftry', 'Grass']\n",
      "['Taillow', 'Normal']\n",
      "['Swellow', 'Normal']\n",
      "['Wingull', 'Water']\n",
      "['Pelipper', 'Water']\n",
      "['Ralts', 'Psychic']\n",
      "['Kirlia', 'Psychic']\n",
      "['Gardevoir', 'Psychic']\n",
      "['Surskit', 'Bug']\n",
      "['Masquerain', 'Bug']\n",
      "['Shroomish', 'Grass']\n",
      "['Breloom', 'Grass']\n",
      "['Slakoth', 'Normal']\n",
      "['Vigoroth', 'Normal']\n",
      "['Slaking', 'Normal']\n",
      "['Nincada', 'Bug']\n",
      "['Ninjask', 'Bug']\n",
      "['Shedinja', 'Bug']\n",
      "['Whismur', 'Normal']\n",
      "['Loudred', 'Normal']\n",
      "['Exploud', 'Normal']\n",
      "['Makuhita', 'Fighting']\n",
      "['Hariyama', 'Fighting']\n",
      "['Azurill', 'Normal']\n",
      "['Nosepass', 'Rock']\n",
      "['Skitty', 'Normal']\n",
      "['Delcatty', 'Normal']\n",
      "['Sableye', 'Dark']\n",
      "['Mawile', 'Steel']\n",
      "['Aron', 'Steel']\n",
      "['Lairon', 'Steel']\n",
      "['Aggron', 'Steel']\n",
      "['Meditite', 'Fighting']\n",
      "['Medicham', 'Fighting']\n",
      "['Electrike', 'Electric']\n",
      "['Manectric', 'Electric']\n",
      "['Plusle', 'Electric']\n",
      "['Minun', 'Electric']\n",
      "['Volbeat', 'Bug']\n",
      "['Illumise', 'Bug']\n",
      "['Roselia', 'Grass']\n",
      "['Gulpin', 'Poison']\n",
      "['Swalot', 'Poison']\n",
      "['Carvanha', 'Water']\n",
      "['Sharpedo', 'Water']\n",
      "['Wailmer', 'Water']\n",
      "['Wailord', 'Water']\n",
      "['Numel', 'Fire']\n",
      "['Camerupt', 'Fire']\n",
      "['Torkoal', 'Fire']\n",
      "['Spoink', 'Psychic']\n",
      "['Grumpig', 'Psychic']\n",
      "['Spinda', 'Normal']\n",
      "['Trapinch', 'Ground']\n",
      "['Vibrava', 'Ground']\n",
      "['Flygon', 'Ground']\n",
      "['Cacnea', 'Grass']\n",
      "['Cacturne', 'Grass']\n",
      "['Swablu', 'Normal']\n",
      "['Altaria', 'Dragon']\n",
      "['Zangoose', 'Normal']\n",
      "['Seviper', 'Poison']\n",
      "['Lunatone', 'Rock']\n",
      "['Solrock', 'Rock']\n",
      "['Barboach', 'Water']\n",
      "['Whiscash', 'Water']\n",
      "['Corphish', 'Water']\n",
      "['Crawdaunt', 'Water']\n",
      "['Baltoy', 'Ground']\n",
      "['Claydol', 'Ground']\n",
      "['Lileep', 'Rock']\n",
      "['Cradily', 'Rock']\n",
      "['Anorith', 'Rock']\n",
      "['Armaldo', 'Rock']\n",
      "['Feebas', 'Water']\n",
      "['Milotic', 'Water']\n",
      "['Castform', 'Normal']\n",
      "['Kecleon', 'Normal']\n",
      "['Shuppet', 'Ghost']\n",
      "['Banette', 'Ghost']\n",
      "['Duskull', 'Ghost']\n",
      "['Dusclops', 'Ghost']\n",
      "['Tropius', 'Grass']\n",
      "['Chimecho', 'Psychic']\n",
      "['Absol', 'Dark']\n",
      "['Wynaut', 'Psychic']\n",
      "['Snorunt', 'Ice']\n",
      "['Glalie', 'Ice']\n",
      "['Spheal', 'Ice']\n",
      "['Sealeo', 'Ice']\n",
      "['Walrein', 'Ice']\n",
      "['Clamperl', 'Water']\n",
      "['Huntail', 'Water']\n",
      "['Gorebyss', 'Water']\n",
      "['Relicanth', 'Water']\n",
      "['Luvdisc', 'Water']\n",
      "['Bagon', 'Dragon']\n",
      "['Shelgon', 'Dragon']\n",
      "['Salamence', 'Dragon']\n",
      "['Beldum', 'Steel']\n",
      "['Metang', 'Steel']\n",
      "['Metagross', 'Steel']\n",
      "['Regirock', 'Rock']\n",
      "['Regice', 'Ice']\n",
      "['Registeel', 'Steel']\n",
      "['Latias', 'Dragon']\n",
      "['Latios', 'Dragon']\n",
      "['Kyogre', 'Water']\n",
      "['Groudon', 'Ground']\n",
      "['Rayquaza', 'Dragon']\n",
      "['Jirachi', 'Steel']\n",
      "['Deoxys', 'Psychic']\n",
      "['Turtwig', 'Grass']\n",
      "['Grotle', 'Grass']\n",
      "['Torterra', 'Grass']\n",
      "['Chimchar', 'Fire']\n",
      "['Monferno', 'Fire']\n",
      "['Infernape', 'Fire']\n",
      "['Piplup', 'Water']\n",
      "['Prinplup', 'Water']\n",
      "['Empoleon', 'Water']\n",
      "['Starly', 'Normal']\n",
      "['Staravia', 'Normal']\n",
      "['Staraptor', 'Normal']\n",
      "['Bidoof', 'Normal']\n",
      "['Bibarel', 'Normal']\n",
      "['Kricketot', 'Bug']\n",
      "['Kricketune', 'Bug']\n",
      "['Shinx', 'Electric']\n",
      "['Luxio', 'Electric']\n",
      "['Luxray', 'Electric']\n",
      "['Budew', 'Grass']\n",
      "['Roserade', 'Grass']\n",
      "['Cranidos', 'Rock']\n",
      "['Rampardos', 'Rock']\n",
      "['Shieldon', 'Rock']\n",
      "['Bastiodon', 'Rock']\n",
      "['Burmy', 'Bug']\n",
      "['Wormadam', 'Bug']\n",
      "['Mothim', 'Bug']\n",
      "['Combee', 'Bug']\n",
      "['Vespiquen', 'Bug']\n",
      "['Pachirisu', 'Electric']\n",
      "['Buizel', 'Water']\n",
      "['Floatzel', 'Water']\n",
      "['Cherubi', 'Grass']\n",
      "['Cherrim', 'Grass']\n",
      "['Shellos', 'Water']\n",
      "['Gastrodon', 'Water']\n",
      "['Ambipom', 'Normal']\n",
      "['Drifloon', 'Ghost']\n",
      "['Drifblim', 'Ghost']\n",
      "['Buneary', 'Normal']\n",
      "['Lopunny', 'Normal']\n",
      "['Mismagius', 'Ghost']\n",
      "['Honchkrow', 'Dark']\n",
      "['Glameow', 'Normal']\n",
      "['Purugly', 'Normal']\n",
      "['Chingling', 'Psychic']\n",
      "['Stunky', 'Poison']\n",
      "['Skuntank', 'Poison']\n",
      "['Bronzor', 'Steel']\n",
      "['Bronzong', 'Steel']\n",
      "['Bonsly', 'Rock']\n",
      "['Mime Jr.', 'Psychic']\n",
      "['Happiny', 'Normal']\n",
      "['Chatot', 'Normal']\n",
      "['Spiritomb', 'Ghost']\n",
      "['Gible', 'Dragon']\n",
      "['Gabite', 'Dragon']\n",
      "['Garchomp', 'Dragon']\n",
      "['Munchlax', 'Normal']\n",
      "['Riolu', 'Fighting']\n",
      "['Lucario', 'Fighting']\n",
      "['Hippopotas', 'Ground']\n",
      "['Hippowdon', 'Ground']\n",
      "['Skorupi', 'Poison']\n",
      "['Drapion', 'Poison']\n",
      "['Croagunk', 'Poison']\n",
      "['Toxicroak', 'Poison']\n",
      "['Carnivine', 'Grass']\n",
      "['Finneon', 'Water']\n",
      "['Lumineon', 'Water']\n",
      "['Mantyke', 'Water']\n",
      "['Snover', 'Grass']\n",
      "['Abomasnow', 'Grass']\n",
      "['Weavile', 'Dark']\n",
      "['Magnezone', 'Electric']\n",
      "['Lickilicky', 'Normal']\n",
      "['Rhyperior', 'Ground']\n",
      "['Tangrowth', 'Grass']\n",
      "['Electivire', 'Electric']\n",
      "['Magmortar', 'Fire']\n",
      "['Togekiss', 'Fairy']\n",
      "['Yanmega', 'Bug']\n",
      "['Leafeon', 'Grass']\n",
      "['Glaceon', 'Ice']\n",
      "['Gliscor', 'Ground']\n",
      "['Mamoswine', 'Ice']\n",
      "['Porygon-Z', 'Normal']\n",
      "['Gallade', 'Psychic']\n",
      "['Probopass', 'Rock']\n",
      "['Dusknoir', 'Ghost']\n",
      "['Froslass', 'Ice']\n",
      "['Rotom', 'Electric']\n",
      "['Uxie', 'Psychic']\n",
      "['Mesprit', 'Psychic']\n",
      "['Azelf', 'Psychic']\n",
      "['Dialga', 'Steel']\n",
      "['Palkia', 'Water']\n",
      "['Heatran', 'Fire']\n",
      "['Regigigas', 'Normal']\n",
      "['Giratina', 'Ghost']\n",
      "['Cresselia', 'Psychic']\n",
      "['Phione', 'Water']\n",
      "['Manaphy', 'Water']\n",
      "['Darkrai', 'Dark']\n",
      "['Shaymin', 'Grass']\n",
      "['Arceus', 'Normal']\n",
      "['Victini', 'Psychic']\n",
      "['Snivy', 'Grass']\n",
      "['Servine', 'Grass']\n",
      "['Serperior', 'Grass']\n",
      "['Tepig', 'Fire']\n",
      "['Pignite', 'Fire']\n",
      "['Emboar', 'Fire']\n",
      "['Oshawott', 'Water']\n",
      "['Dewott', 'Water']\n",
      "['Samurott', 'Water']\n",
      "['Patrat', 'Normal']\n",
      "['Watchog', 'Normal']\n",
      "['Lillipup', 'Normal']\n",
      "['Herdier', 'Normal']\n",
      "['Stoutland', 'Normal']\n",
      "['Purrloin', 'Dark']\n",
      "['Liepard', 'Dark']\n",
      "['Pansage', 'Grass']\n",
      "['Simisage', 'Grass']\n",
      "['Pansear', 'Fire']\n",
      "['Simisear', 'Fire']\n",
      "['Panpour', 'Water']\n",
      "['Simipour', 'Water']\n",
      "['Munna', 'Psychic']\n",
      "['Musharna', 'Psychic']\n",
      "['Pidove', 'Normal']\n",
      "['Tranquill', 'Normal']\n",
      "['Unfezant', 'Normal']\n",
      "['Blitzle', 'Electric']\n",
      "['Zebstrika', 'Electric']\n",
      "['Roggenrola', 'Rock']\n",
      "['Boldore', 'Rock']\n",
      "['Gigalith', 'Rock']\n",
      "['Woobat', 'Psychic']\n",
      "['Swoobat', 'Psychic']\n",
      "['Drilbur', 'Ground']\n",
      "['Excadrill', 'Ground']\n",
      "['Audino', 'Normal']\n",
      "['Timburr', 'Fighting']\n",
      "['Gurdurr', 'Fighting']\n",
      "['Conkeldurr', 'Fighting']\n",
      "['Tympole', 'Water']\n",
      "['Palpitoad', 'Water']\n",
      "['Seismitoad', 'Water']\n",
      "['Throh', 'Fighting']\n",
      "['Sawk', 'Fighting']\n",
      "['Sewaddle', 'Bug']\n",
      "['Swadloon', 'Bug']\n",
      "['Leavanny', 'Bug']\n",
      "['Venipede', 'Bug']\n",
      "['Whirlipede', 'Bug']\n",
      "['Scolipede', 'Bug']\n",
      "['Cottonee', 'Grass']\n",
      "['Whimsicott', 'Grass']\n",
      "['Petilil', 'Grass']\n",
      "['Lilligant', 'Grass']\n",
      "['Basculin', 'Water']\n",
      "['Sandile', 'Ground']\n",
      "['Krokorok', 'Ground']\n",
      "['Krookodile', 'Ground']\n",
      "['Darumaka', 'Fire']\n",
      "['Darmanitan', 'Fire']\n",
      "['Maractus', 'Grass']\n",
      "['Dwebble', 'Bug']\n",
      "['Crustle', 'Bug']\n",
      "['Scraggy', 'Dark']\n",
      "['Scrafty', 'Dark']\n",
      "['Sigilyph', 'Psychic']\n",
      "['Yamask', 'Ghost']\n",
      "['Cofagrigus', 'Ghost']\n",
      "['Tirtouga', 'Water']\n",
      "['Carracosta', 'Water']\n",
      "['Archen', 'Rock']\n",
      "['Archeops', 'Rock']\n",
      "['Trubbish', 'Poison']\n",
      "['Garbodor', 'Poison']\n",
      "['Zorua', 'Dark']\n",
      "['Zoroark', 'Dark']\n",
      "['Minccino', 'Normal']\n",
      "['Cinccino', 'Normal']\n",
      "['Gothita', 'Psychic']\n",
      "['Gothorita', 'Psychic']\n",
      "['Gothitelle', 'Psychic']\n",
      "['Solosis', 'Psychic']\n",
      "['Duosion', 'Psychic']\n",
      "['Reuniclus', 'Psychic']\n",
      "['Ducklett', 'Water']\n",
      "['Swanna', 'Water']\n",
      "['Vanillite', 'Ice']\n",
      "['Vanillish', 'Ice']\n",
      "['Vanilluxe', 'Ice']\n",
      "['Deerling', 'Normal']\n",
      "['Sawsbuck', 'Normal']\n",
      "['Emolga', 'Electric']\n",
      "['Karrablast', 'Bug']\n",
      "['Escavalier', 'Bug']\n",
      "['Foongus', 'Grass']\n",
      "['Amoonguss', 'Grass']\n",
      "['Frillish', 'Water']\n",
      "['Jellicent', 'Water']\n",
      "['Alomomola', 'Water']\n",
      "['Joltik', 'Bug']\n",
      "['Galvantula', 'Bug']\n",
      "['Ferroseed', 'Grass']\n",
      "['Ferrothorn', 'Grass']\n",
      "['Klink', 'Steel']\n",
      "['Klang', 'Steel']\n",
      "['Klinklang', 'Steel']\n",
      "['Tynamo', 'Electric']\n",
      "['Eelektrik', 'Electric']\n",
      "['Eelektross', 'Electric']\n",
      "['Elgyem', 'Psychic']\n",
      "['Beheeyem', 'Psychic']\n",
      "['Litwick', 'Ghost']\n",
      "['Lampent', 'Ghost']\n",
      "['Chandelure', 'Ghost']\n",
      "['Axew', 'Dragon']\n",
      "['Fraxure', 'Dragon']\n",
      "['Haxorus', 'Dragon']\n",
      "['Cubchoo', 'Ice']\n",
      "['Beartic', 'Ice']\n",
      "['Cryogonal', 'Ice']\n",
      "['Shelmet', 'Bug']\n",
      "['Accelgor', 'Bug']\n",
      "['Stunfisk', 'Ground']\n",
      "['Mienfoo', 'Fighting']\n",
      "['Mienshao', 'Fighting']\n",
      "['Druddigon', 'Dragon']\n",
      "['Golett', 'Ground']\n",
      "['Golurk', 'Ground']\n",
      "['Pawniard', 'Dark']\n",
      "['Bisharp', 'Dark']\n",
      "['Bouffalant', 'Normal']\n",
      "['Rufflet', 'Normal']\n",
      "['Braviary', 'Normal']\n",
      "['Vullaby', 'Dark']\n",
      "['Mandibuzz', 'Dark']\n",
      "['Heatmor', 'Fire']\n",
      "['Durant', 'Bug']\n",
      "['Deino', 'Dark']\n",
      "['Zweilous', 'Dark']\n",
      "['Hydreigon', 'Dark']\n",
      "['Larvesta', 'Bug']\n",
      "['Volcarona', 'Bug']\n",
      "['Cobalion', 'Steel']\n",
      "['Terrakion', 'Rock']\n",
      "['Virizion', 'Grass']\n",
      "['Tornadus', 'Flying']\n",
      "['Thundurus', 'Electric']\n",
      "['Reshiram', 'Dragon']\n",
      "['Zekrom', 'Dragon']\n",
      "['Landorus', 'Ground']\n",
      "['Kyurem', 'Dragon']\n",
      "['Keldeo', 'Water']\n",
      "['Meloetta', 'Normal']\n",
      "['Genesect', 'Bug']\n",
      "['Chespin', 'Grass']\n",
      "['Quilladin', 'Grass']\n",
      "['Chesnaught', 'Grass']\n",
      "['Fennekin', 'Fire']\n",
      "['Braixen', 'Fire']\n",
      "['Delphox', 'Fire']\n",
      "['Froakie', 'Water']\n",
      "['Frogadier', 'Water']\n",
      "['Greninja', 'Water']\n",
      "['Bunnelby', 'Normal']\n",
      "['Diggersby', 'Normal']\n",
      "['Fletchling', 'Normal']\n",
      "['Fletchinder', 'Fire']\n",
      "['Talonflame', 'Fire']\n",
      "['Scatterbug', 'Bug']\n",
      "['Spewpa', 'Bug']\n",
      "['Vivillon', 'Bug']\n",
      "['Litleo', 'Fire']\n",
      "['Pyroar', 'Fire']\n",
      "['FlabÃ©bÃ©', 'Fairy']\n",
      "['Floette', 'Fairy']\n",
      "['Florges', 'Fairy']\n",
      "['Skiddo', 'Grass']\n",
      "['Gogoat', 'Grass']\n",
      "['Pancham', 'Fighting']\n",
      "['Pangoro', 'Fighting']\n",
      "['Furfrou', 'Normal']\n",
      "['Espurr', 'Psychic']\n",
      "['Meowstic', 'Psychic']\n",
      "['Honedge', 'Steel']\n",
      "['Doublade', 'Steel']\n",
      "['Aegislash', 'Steel']\n",
      "['Spritzee', 'Fairy']\n",
      "['Aromatisse', 'Fairy']\n",
      "['Swirlix', 'Fairy']\n",
      "['Slurpuff', 'Fairy']\n",
      "['Inkay', 'Dark']\n",
      "['Malamar', 'Dark']\n",
      "['Binacle', 'Rock']\n",
      "['Barbaracle', 'Rock']\n",
      "['Skrelp', 'Poison']\n",
      "['Dragalge', 'Poison']\n",
      "['Clauncher', 'Water']\n",
      "['Clawitzer', 'Water']\n",
      "['Helioptile', 'Electric']\n",
      "['Heliolisk', 'Electric']\n",
      "['Tyrunt', 'Rock']\n",
      "['Tyrantrum', 'Rock']\n",
      "['Amaura', 'Rock']\n",
      "['Aurorus', 'Rock']\n",
      "['Sylveon', 'Fairy']\n",
      "['Hawlucha', 'Fighting']\n",
      "['Dedenne', 'Electric']\n",
      "['Carbink', 'Rock']\n",
      "['Goomy', 'Dragon']\n",
      "['Sliggoo', 'Dragon']\n",
      "['Goodra', 'Dragon']\n",
      "['Klefki', 'Steel']\n",
      "['Phantump', 'Ghost']\n",
      "['Trevenant', 'Ghost']\n",
      "['Pumpkaboo', 'Ghost']\n",
      "['Gourgeist', 'Ghost']\n",
      "['Bergmite', 'Ice']\n",
      "['Avalugg', 'Ice']\n",
      "['Noibat', 'Flying']\n",
      "['Noivern', 'Flying']\n",
      "['Xerneas', 'Fairy']\n",
      "['Yveltal', 'Dark']\n",
      "['Zygarde', 'Dragon']\n",
      "['Diancie', 'Rock']\n",
      "['Hoopa', 'Psychic']\n",
      "['Volcanion', 'Fire']\n"
     ]
    }
   ],
   "source": [
    "# Lecture#113 – work with csv file\n",
    "\n",
    "# work with csv files \n",
    " \n",
    "from csv import reader\n",
    "\n",
    "with open('files/file.csv', 'r') as f:\n",
    "    csv_reader = reader(f)\n",
    "    next(csv_reader)        # it will not print first row of the file\n",
    "    for row in csv_reader:\n",
    "        print(row)\n"
   ]
  },
  {
   "cell_type": "code",
   "execution_count": 189,
   "metadata": {},
   "outputs": [
    {
     "ename": "KeyError",
     "evalue": "'Charmeleon'",
     "output_type": "error",
     "traceback": [
      "\u001b[1;31m---------------------------------------------------------------------------\u001b[0m",
      "\u001b[1;31mKeyError\u001b[0m                                  Traceback (most recent call last)",
      "\u001b[1;32m<ipython-input-189-4b497905ccaa>\u001b[0m in \u001b[0;36m<module>\u001b[1;34m()\u001b[0m\n\u001b[0;32m      6\u001b[0m     \u001b[0mcsv_reader\u001b[0m \u001b[1;33m=\u001b[0m \u001b[0mDictReader\u001b[0m\u001b[1;33m(\u001b[0m\u001b[0mf\u001b[0m\u001b[1;33m)\u001b[0m\u001b[1;33m\u001b[0m\u001b[0m\n\u001b[0;32m      7\u001b[0m     \u001b[1;32mfor\u001b[0m \u001b[0mrow\u001b[0m \u001b[1;32min\u001b[0m \u001b[0mcsv_reader\u001b[0m\u001b[1;33m:\u001b[0m\u001b[1;33m\u001b[0m\u001b[0m\n\u001b[1;32m----> 8\u001b[1;33m         \u001b[0mprint\u001b[0m\u001b[1;33m(\u001b[0m\u001b[0mrow\u001b[0m\u001b[1;33m[\u001b[0m\u001b[1;34m'Charmeleon'\u001b[0m\u001b[1;33m]\u001b[0m\u001b[1;33m)\u001b[0m\u001b[1;33m\u001b[0m\u001b[0m\n\u001b[0m",
      "\u001b[1;31mKeyError\u001b[0m: 'Charmeleon'"
     ]
    }
   ],
   "source": [
    "# Lecture#114 – read csv file with DictReader \n",
    "\n",
    "from csv import DictReader\n",
    "\n",
    "with open('files/file.csv', 'r') as f:\n",
    "    csv_reader = DictReader(f)\n",
    "    for row in csv_reader:\n",
    "        print(row['Charmeleon'])\n"
   ]
  },
  {
   "cell_type": "code",
   "execution_count": 190,
   "metadata": {
    "collapsed": true
   },
   "outputs": [],
   "source": [
    "# Lecture#115 – write to csv file \n",
    "\n",
    "# writer, DictWriter \n",
    " \n",
    "from csv import writer\n",
    "with open('test2.csv', 'w', newline='') as f:\n",
    "    csv_writer = writer(f)\n",
    "    # methods - writerow, writerows\n",
    "    # csv_writer.writerow(['name', 'country'])\n",
    "    # csv_writer.writerow(['awi', 'pakistan'])\n",
    "    # csv_writer.writerow(['john', 'US'])\n",
    "\n",
    "    csv_writer.writerows([['name','country'],['awi', 'pakistan'],['john', 'US']])\n",
    "\n"
   ]
  },
  {
   "cell_type": "code",
   "execution_count": null,
   "metadata": {
    "collapsed": true
   },
   "outputs": [],
   "source": [
    "# Lecture#116 – write to csv file using DictWriter\n",
    "\n",
    "from csv import DictWriter\n",
    "\n",
    "with open('test3.csv', 'w', newline='') as f:\n",
    "    csv_writer = DictWriter(f, fieldnames=['firstname', 'lastname','age'])\n",
    "    csv_writer.writeheader()\n",
    "\n",
    "    # method1\n",
    "\n",
    "    # csv_writer.writerow({\n",
    "    #     'firstname': 'awinash',\n",
    "    #     'lastname': 'goswami',\n",
    "    #     'age':'25'\n",
    "    # })\n",
    "    # csv_writer.writerow({\n",
    "    #     'firstname': 'awinash',\n",
    "    #     'lastname': 'goswami',\n",
    "    #     'age':'25'\n",
    "    # })\n",
    "    # csv_writer.writerow({\n",
    "    #     'firstname': 'awinash',\n",
    "    #     'lastname': 'goswami',\n",
    "    #     'age':'25'\n",
    "    # })\n",
    "\n",
    "    # method2\n",
    "\n",
    "    csv_writer.writerows([\n",
    "        {'firstname':'awi', 'lastname':'goswami', 'age': 25},\n",
    "        {'firstname':'awi', 'lastname':'goswami', 'age': 25},\n",
    "        {'firstname':'awi', 'lastname':'goswami', 'age': 25}\n",
    "    ])"
   ]
  },
  {
   "cell_type": "code",
   "execution_count": 191,
   "metadata": {},
   "outputs": [
    {
     "ename": "FileNotFoundError",
     "evalue": "[Errno 2] No such file or directory: 'test3.csv'",
     "output_type": "error",
     "traceback": [
      "\u001b[1;31m---------------------------------------------------------------------------\u001b[0m",
      "\u001b[1;31mFileNotFoundError\u001b[0m                         Traceback (most recent call last)",
      "\u001b[1;32m<ipython-input-191-204b3f0f3b4c>\u001b[0m in \u001b[0;36m<module>\u001b[1;34m()\u001b[0m\n\u001b[0;32m      3\u001b[0m \u001b[1;32mfrom\u001b[0m \u001b[0mcsv\u001b[0m \u001b[1;32mimport\u001b[0m \u001b[0mDictReader\u001b[0m\u001b[1;33m,\u001b[0m \u001b[0mDictWriter\u001b[0m\u001b[1;33m\u001b[0m\u001b[0m\n\u001b[0;32m      4\u001b[0m \u001b[1;33m\u001b[0m\u001b[0m\n\u001b[1;32m----> 5\u001b[1;33m \u001b[1;32mwith\u001b[0m \u001b[0mopen\u001b[0m\u001b[1;33m(\u001b[0m\u001b[1;34m'test3.csv'\u001b[0m\u001b[1;33m,\u001b[0m \u001b[1;34m'r'\u001b[0m\u001b[1;33m)\u001b[0m \u001b[1;32mas\u001b[0m \u001b[0mrf\u001b[0m\u001b[1;33m:\u001b[0m\u001b[1;33m\u001b[0m\u001b[0m\n\u001b[0m\u001b[0;32m      6\u001b[0m     \u001b[1;32mwith\u001b[0m \u001b[0mopen\u001b[0m\u001b[1;33m(\u001b[0m\u001b[1;34m'test4.csv'\u001b[0m\u001b[1;33m,\u001b[0m \u001b[1;34m'w'\u001b[0m\u001b[1;33m,\u001b[0m \u001b[0mnewline\u001b[0m\u001b[1;33m=\u001b[0m\u001b[1;34m''\u001b[0m\u001b[1;33m)\u001b[0m \u001b[1;32mas\u001b[0m \u001b[0mwf\u001b[0m\u001b[1;33m:\u001b[0m\u001b[1;33m\u001b[0m\u001b[0m\n\u001b[0;32m      7\u001b[0m         \u001b[0mcsv_reader\u001b[0m \u001b[1;33m=\u001b[0m \u001b[0mDictReader\u001b[0m\u001b[1;33m(\u001b[0m\u001b[0mrf\u001b[0m\u001b[1;33m)\u001b[0m\u001b[1;33m\u001b[0m\u001b[0m\n",
      "\u001b[1;31mFileNotFoundError\u001b[0m: [Errno 2] No such file or directory: 'test3.csv'"
     ]
    }
   ],
   "source": [
    "# Lecture#117 – read and write both to csv file \n",
    "\n",
    "from csv import DictReader, DictWriter\n",
    "\n",
    "with open('files/test3.csv', 'r') as rf:\n",
    "    with open('test4.csv', 'w', newline='') as wf:\n",
    "        csv_reader = DictReader(rf)\n",
    "        csv_writer = DictWriter(wf, fieldnames=['first_name', 'last_name', 'age'])\n",
    "        csv_writer.writeheader()\n",
    "\n",
    "        for row in csv_reader:\n",
    "            fname, lname, age = row['firstname'], row['lastname'], row['age']\n",
    "            csv_writer.writerow({\n",
    "                'first_name': fname.upper(),\n",
    "                'last_name': lname.upper(),\n",
    "                'age':age\n",
    "             })\n"
   ]
  },
  {
   "cell_type": "code",
   "execution_count": null,
   "metadata": {
    "collapsed": true
   },
   "outputs": [],
   "source": [
    "# Lecture#118 – OS module part I\n",
    "\n",
    "import os\n",
    "\n",
    "# to get current working directory\n",
    "os.getcwd()\n",
    "\n",
    "# to create folder\n",
    "os.mkdir('movies')\n",
    "\n",
    "# to check whether a folder already exists\n",
    "os.path.exists('movies')\n",
    "\n",
    "# to create a file \n",
    "open('file.txt', 'a').close()\n",
    "\n",
    "# to enlist all files and folder\n",
    "os.listdir()\n"
   ]
  },
  {
   "cell_type": "code",
   "execution_count": null,
   "metadata": {
    "collapsed": true
   },
   "outputs": [],
   "source": [
    "# Lecture#118 – OS module part II and shutil method\n",
    "import os\n",
    "import shutil\n",
    "\n",
    "# to check file in depth\n",
    " \n",
    "fileiterator = os.walk(r'D:\\Gallery\\drama_seriel')\n",
    "for current_path, folder_name, file_name in fileiterator:\n",
    "    print(f'current_path: {current_path}')\n",
    "    print(f'folder_name: {folder_name}')\n",
    "    print(f'file_name: {file_name}')\n",
    "\n",
    "# to delete folder that is empty \n",
    "os.rmdir('any_folder_name')\n",
    "\n",
    "# create a folder in a folder\n",
    "os.makedirs('new/movies')\n",
    "\n",
    "# will permenantly delete folder \n",
    "shutil.rmtree('movies') \n",
    "\n",
    "# to copy one folder in an other. first parameter is folder to be copied and second is where to copy \n",
    "shutil.copytree('new', 'documents/new')  \n",
    "\n",
    "# to copy one file in an other. first parameter is file to be copied and second is where to copy \n",
    "shutil.copy('new_file', 'documents/new')  \n",
    "\n",
    "# to move file or folder  \n",
    "shutil.move('file.txt', 'documents/file.txt')\n"
   ]
  }
 ],
 "metadata": {
  "kernelspec": {
   "display_name": "Python 3",
   "language": "python",
   "name": "python3"
  },
  "language_info": {
   "codemirror_mode": {
    "name": "ipython",
    "version": 3
   },
   "file_extension": ".py",
   "mimetype": "text/x-python",
   "name": "python",
   "nbconvert_exporter": "python",
   "pygments_lexer": "ipython3",
   "version": "3.6.2"
  }
 },
 "nbformat": 4,
 "nbformat_minor": 2
}
